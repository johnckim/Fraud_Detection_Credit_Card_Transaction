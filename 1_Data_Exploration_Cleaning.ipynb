{
  "nbformat": 4,
  "nbformat_minor": 0,
  "metadata": {
    "anaconda-cloud": {},
    "kernelspec": {
      "display_name": "Python 3",
      "language": "python",
      "name": "python3"
    },
    "language_info": {
      "codemirror_mode": {
        "name": "ipython",
        "version": 3
      },
      "file_extension": ".py",
      "mimetype": "text/x-python",
      "name": "python",
      "nbconvert_exporter": "python",
      "pygments_lexer": "ipython3",
      "version": "3.7.3"
    },
    "colab": {
      "name": "1.Data_Exploration_Cleaning.ipynb",
      "provenance": [],
      "collapsed_sections": []
    }
  },
  "cells": [
    {
      "cell_type": "markdown",
      "metadata": {
        "id": "6ti_cI54acka",
        "colab_type": "text"
      },
      "source": [
        "In this notebook, I start with exploring the card transaction data and then clean it by identifying exclusion, removing outliers, and filling in missing values."
      ]
    },
    {
      "cell_type": "code",
      "metadata": {
        "id": "2DCRGKmls08Q",
        "colab_type": "code",
        "colab": {
          "base_uri": "https://localhost:8080/",
          "height": 34
        },
        "outputId": "3e1322aa-8402-4601-cee5-a11dfc96af61"
      },
      "source": [
        "from google.colab import drive\n",
        "drive.mount('/content/drive')"
      ],
      "execution_count": null,
      "outputs": [
        {
          "output_type": "stream",
          "text": [
            "Drive already mounted at /content/drive; to attempt to forcibly remount, call drive.mount(\"/content/drive\", force_remount=True).\n"
          ],
          "name": "stdout"
        }
      ]
    },
    {
      "cell_type": "code",
      "metadata": {
        "id": "kFpoFCo4wUBK",
        "colab_type": "code",
        "colab": {
          "base_uri": "https://localhost:8080/",
          "height": 85
        },
        "outputId": "1364870a-e1a2-4edc-fcde-7eef412c425d"
      },
      "source": [
        "import pandas as pd\n",
        "import numpy as np\n",
        "from scipy import stats\n",
        "import matplotlib.pyplot as plt\n",
        "import seaborn as sns\n",
        "from datetime import datetime\n",
        "from datetime import timedelta\n",
        "start_time = pd.datetime.now()"
      ],
      "execution_count": null,
      "outputs": [
        {
          "output_type": "stream",
          "text": [
            "/usr/local/lib/python3.6/dist-packages/statsmodels/tools/_testing.py:19: FutureWarning: pandas.util.testing is deprecated. Use the functions in the public API at pandas.testing instead.\n",
            "  import pandas.util.testing as tm\n",
            "/usr/local/lib/python3.6/dist-packages/ipykernel_launcher.py:8: FutureWarning: The pandas.datetime class is deprecated and will be removed from pandas in a future version. Import from datetime instead.\n",
            "  \n"
          ],
          "name": "stderr"
        }
      ]
    },
    {
      "cell_type": "code",
      "metadata": {
        "id": "oF9cUDKIuyqF",
        "colab_type": "code",
        "colab": {}
      },
      "source": [
        "data = pd.read_excel('/content/drive/My Drive/5. USC/3. Spring 2020/DSO562 Fraud/Project/project03/card transactions.xlsx')"
      ],
      "execution_count": null,
      "outputs": []
    },
    {
      "cell_type": "code",
      "metadata": {
        "id": "c1khO6ZUwUBn",
        "colab_type": "code",
        "colab": {
          "base_uri": "https://localhost:8080/",
          "height": 419
        },
        "outputId": "65d9a308-1f6c-443d-abc5-1ddde366a0ae"
      },
      "source": [
        "data"
      ],
      "execution_count": null,
      "outputs": [
        {
          "output_type": "execute_result",
          "data": {
            "text/html": [
              "<div>\n",
              "<style scoped>\n",
              "    .dataframe tbody tr th:only-of-type {\n",
              "        vertical-align: middle;\n",
              "    }\n",
              "\n",
              "    .dataframe tbody tr th {\n",
              "        vertical-align: top;\n",
              "    }\n",
              "\n",
              "    .dataframe thead th {\n",
              "        text-align: right;\n",
              "    }\n",
              "</style>\n",
              "<table border=\"1\" class=\"dataframe\">\n",
              "  <thead>\n",
              "    <tr style=\"text-align: right;\">\n",
              "      <th></th>\n",
              "      <th>Recnum</th>\n",
              "      <th>Cardnum</th>\n",
              "      <th>Date</th>\n",
              "      <th>Merchnum</th>\n",
              "      <th>Merch description</th>\n",
              "      <th>Merch state</th>\n",
              "      <th>Merch zip</th>\n",
              "      <th>Transtype</th>\n",
              "      <th>Amount</th>\n",
              "      <th>Fraud</th>\n",
              "    </tr>\n",
              "  </thead>\n",
              "  <tbody>\n",
              "    <tr>\n",
              "      <th>0</th>\n",
              "      <td>1</td>\n",
              "      <td>5142190439</td>\n",
              "      <td>2010-01-01</td>\n",
              "      <td>5509006296254</td>\n",
              "      <td>FEDEX SHP 12/23/09 AB#</td>\n",
              "      <td>TN</td>\n",
              "      <td>38118.0</td>\n",
              "      <td>P</td>\n",
              "      <td>3.62</td>\n",
              "      <td>0</td>\n",
              "    </tr>\n",
              "    <tr>\n",
              "      <th>1</th>\n",
              "      <td>2</td>\n",
              "      <td>5142183973</td>\n",
              "      <td>2010-01-01</td>\n",
              "      <td>61003026333</td>\n",
              "      <td>SERVICE MERCHANDISE #81</td>\n",
              "      <td>MA</td>\n",
              "      <td>1803.0</td>\n",
              "      <td>P</td>\n",
              "      <td>31.42</td>\n",
              "      <td>0</td>\n",
              "    </tr>\n",
              "    <tr>\n",
              "      <th>2</th>\n",
              "      <td>3</td>\n",
              "      <td>5142131721</td>\n",
              "      <td>2010-01-01</td>\n",
              "      <td>4503082993600</td>\n",
              "      <td>OFFICE DEPOT #191</td>\n",
              "      <td>MD</td>\n",
              "      <td>20706.0</td>\n",
              "      <td>P</td>\n",
              "      <td>178.49</td>\n",
              "      <td>0</td>\n",
              "    </tr>\n",
              "    <tr>\n",
              "      <th>3</th>\n",
              "      <td>4</td>\n",
              "      <td>5142148452</td>\n",
              "      <td>2010-01-01</td>\n",
              "      <td>5509006296254</td>\n",
              "      <td>FEDEX SHP 12/28/09 AB#</td>\n",
              "      <td>TN</td>\n",
              "      <td>38118.0</td>\n",
              "      <td>P</td>\n",
              "      <td>3.62</td>\n",
              "      <td>0</td>\n",
              "    </tr>\n",
              "    <tr>\n",
              "      <th>4</th>\n",
              "      <td>5</td>\n",
              "      <td>5142190439</td>\n",
              "      <td>2010-01-01</td>\n",
              "      <td>5509006296254</td>\n",
              "      <td>FEDEX SHP 12/23/09 AB#</td>\n",
              "      <td>TN</td>\n",
              "      <td>38118.0</td>\n",
              "      <td>P</td>\n",
              "      <td>3.62</td>\n",
              "      <td>0</td>\n",
              "    </tr>\n",
              "    <tr>\n",
              "      <th>...</th>\n",
              "      <td>...</td>\n",
              "      <td>...</td>\n",
              "      <td>...</td>\n",
              "      <td>...</td>\n",
              "      <td>...</td>\n",
              "      <td>...</td>\n",
              "      <td>...</td>\n",
              "      <td>...</td>\n",
              "      <td>...</td>\n",
              "      <td>...</td>\n",
              "    </tr>\n",
              "    <tr>\n",
              "      <th>96748</th>\n",
              "      <td>96749</td>\n",
              "      <td>5142276053</td>\n",
              "      <td>2010-12-31</td>\n",
              "      <td>3500000006160</td>\n",
              "      <td>BEST BUY      00001610</td>\n",
              "      <td>KY</td>\n",
              "      <td>41042.0</td>\n",
              "      <td>P</td>\n",
              "      <td>84.79</td>\n",
              "      <td>0</td>\n",
              "    </tr>\n",
              "    <tr>\n",
              "      <th>96749</th>\n",
              "      <td>96750</td>\n",
              "      <td>5142225701</td>\n",
              "      <td>2010-12-31</td>\n",
              "      <td>8090710030950</td>\n",
              "      <td>MARKUS OFFICE SUPPLIES</td>\n",
              "      <td>OH</td>\n",
              "      <td>45248.0</td>\n",
              "      <td>P</td>\n",
              "      <td>118.75</td>\n",
              "      <td>0</td>\n",
              "    </tr>\n",
              "    <tr>\n",
              "      <th>96750</th>\n",
              "      <td>96751</td>\n",
              "      <td>5142226486</td>\n",
              "      <td>2010-12-31</td>\n",
              "      <td>4503057341100</td>\n",
              "      <td>TECH PAC, INC</td>\n",
              "      <td>OH</td>\n",
              "      <td>45150.0</td>\n",
              "      <td>P</td>\n",
              "      <td>363.56</td>\n",
              "      <td>0</td>\n",
              "    </tr>\n",
              "    <tr>\n",
              "      <th>96751</th>\n",
              "      <td>96752</td>\n",
              "      <td>5142244619</td>\n",
              "      <td>2010-12-31</td>\n",
              "      <td>8834000695412</td>\n",
              "      <td>BUY.COM</td>\n",
              "      <td>CA</td>\n",
              "      <td>92656.0</td>\n",
              "      <td>P</td>\n",
              "      <td>2202.03</td>\n",
              "      <td>0</td>\n",
              "    </tr>\n",
              "    <tr>\n",
              "      <th>96752</th>\n",
              "      <td>96753</td>\n",
              "      <td>5142243247</td>\n",
              "      <td>2010-12-31</td>\n",
              "      <td>9108347680006</td>\n",
              "      <td>STAPLES NATIONAL #471</td>\n",
              "      <td>NJ</td>\n",
              "      <td>7606.0</td>\n",
              "      <td>P</td>\n",
              "      <td>554.64</td>\n",
              "      <td>0</td>\n",
              "    </tr>\n",
              "  </tbody>\n",
              "</table>\n",
              "<p>96753 rows × 10 columns</p>\n",
              "</div>"
            ],
            "text/plain": [
              "       Recnum     Cardnum       Date  ... Transtype   Amount Fraud\n",
              "0           1  5142190439 2010-01-01  ...         P     3.62     0\n",
              "1           2  5142183973 2010-01-01  ...         P    31.42     0\n",
              "2           3  5142131721 2010-01-01  ...         P   178.49     0\n",
              "3           4  5142148452 2010-01-01  ...         P     3.62     0\n",
              "4           5  5142190439 2010-01-01  ...         P     3.62     0\n",
              "...       ...         ...        ...  ...       ...      ...   ...\n",
              "96748   96749  5142276053 2010-12-31  ...         P    84.79     0\n",
              "96749   96750  5142225701 2010-12-31  ...         P   118.75     0\n",
              "96750   96751  5142226486 2010-12-31  ...         P   363.56     0\n",
              "96751   96752  5142244619 2010-12-31  ...         P  2202.03     0\n",
              "96752   96753  5142243247 2010-12-31  ...         P   554.64     0\n",
              "\n",
              "[96753 rows x 10 columns]"
            ]
          },
          "metadata": {
            "tags": []
          },
          "execution_count": 4
        }
      ]
    },
    {
      "cell_type": "code",
      "metadata": {
        "id": "_7bwOwGnwPBe",
        "colab_type": "code",
        "colab": {
          "base_uri": "https://localhost:8080/",
          "height": 204
        },
        "outputId": "87d11c68-6574-4f41-8714-1e37ef54cdfc"
      },
      "source": [
        "data.dtypes"
      ],
      "execution_count": null,
      "outputs": [
        {
          "output_type": "execute_result",
          "data": {
            "text/plain": [
              "Recnum                        int64\n",
              "Cardnum                       int64\n",
              "Date                 datetime64[ns]\n",
              "Merchnum                     object\n",
              "Merch description            object\n",
              "Merch state                  object\n",
              "Merch zip                   float64\n",
              "Transtype                    object\n",
              "Amount                      float64\n",
              "Fraud                         int64\n",
              "dtype: object"
            ]
          },
          "metadata": {
            "tags": []
          },
          "execution_count": 5
        }
      ]
    },
    {
      "cell_type": "code",
      "metadata": {
        "id": "YfeR86KFwUBs",
        "colab_type": "code",
        "colab": {}
      },
      "source": [
        "data.rename(columns={'Merch description':'Merchdescription', 'Merch state':'Merchstate', 'Merch zip':'Merchzip'}, inplace=True)"
      ],
      "execution_count": null,
      "outputs": []
    },
    {
      "cell_type": "markdown",
      "metadata": {
        "id": "tP-kCrDjwUBw",
        "colab_type": "text"
      },
      "source": [
        "## Data Exploration"
      ]
    },
    {
      "cell_type": "markdown",
      "metadata": {
        "id": "-mXCy-KTwu1q",
        "colab_type": "text"
      },
      "source": [
        "I first check the number of null values, unique values, and 0's for all the fields"
      ]
    },
    {
      "cell_type": "code",
      "metadata": {
        "id": "9_I2enyiwUB5",
        "colab_type": "code",
        "colab": {
          "base_uri": "https://localhost:8080/",
          "height": 204
        },
        "outputId": "23f29dc4-b548-4760-a6f1-7516172af940"
      },
      "source": [
        "data.isna().sum()"
      ],
      "execution_count": null,
      "outputs": [
        {
          "output_type": "execute_result",
          "data": {
            "text/plain": [
              "Recnum                 0\n",
              "Cardnum                0\n",
              "Date                   0\n",
              "Merchnum            3375\n",
              "Merchdescription       0\n",
              "Merchstate          1195\n",
              "Merchzip            4656\n",
              "Transtype              0\n",
              "Amount                 0\n",
              "Fraud                  0\n",
              "dtype: int64"
            ]
          },
          "metadata": {
            "tags": []
          },
          "execution_count": 7
        }
      ]
    },
    {
      "cell_type": "code",
      "metadata": {
        "id": "x0XejS0i-dtf",
        "colab_type": "code",
        "colab": {
          "base_uri": "https://localhost:8080/",
          "height": 85
        },
        "outputId": "daf8a344-5616-42e4-ff43-3ae6cc9873aa"
      },
      "source": [
        "(data[[\"Cardnum\", \"Merchzip\", 'Amount']] == 0).sum()"
      ],
      "execution_count": null,
      "outputs": [
        {
          "output_type": "execute_result",
          "data": {
            "text/plain": [
              "Cardnum     0\n",
              "Merchzip    0\n",
              "Amount      0\n",
              "dtype: int64"
            ]
          },
          "metadata": {
            "tags": []
          },
          "execution_count": 8
        }
      ]
    },
    {
      "cell_type": "code",
      "metadata": {
        "id": "6FA4lzlQ-ykn",
        "colab_type": "code",
        "colab": {
          "base_uri": "https://localhost:8080/",
          "height": 34
        },
        "outputId": "cfb9fb52-a200-43f3-80fa-c47aabd1278b"
      },
      "source": [
        "(data['Merchnum']=='0').sum()"
      ],
      "execution_count": null,
      "outputs": [
        {
          "output_type": "execute_result",
          "data": {
            "text/plain": [
              "231"
            ]
          },
          "metadata": {
            "tags": []
          },
          "execution_count": 9
        }
      ]
    },
    {
      "cell_type": "markdown",
      "metadata": {
        "id": "2k6KLU2BDi2_",
        "colab_type": "text"
      },
      "source": [
        "I replace the 0's in the Merchnum field with NaN."
      ]
    },
    {
      "cell_type": "code",
      "metadata": {
        "id": "XjgGPPV-DgPv",
        "colab_type": "code",
        "colab": {}
      },
      "source": [
        "data['Merchnum'] = data['Merchnum'].replace({'0':np.nan})"
      ],
      "execution_count": null,
      "outputs": []
    },
    {
      "cell_type": "code",
      "metadata": {
        "id": "MKYX2wHnD6qf",
        "colab_type": "code",
        "colab": {
          "base_uri": "https://localhost:8080/",
          "height": 204
        },
        "outputId": "5206ad58-e11f-40d7-e199-423e932720b7"
      },
      "source": [
        "data.nunique()"
      ],
      "execution_count": null,
      "outputs": [
        {
          "output_type": "execute_result",
          "data": {
            "text/plain": [
              "Recnum              96753\n",
              "Cardnum              1645\n",
              "Date                  365\n",
              "Merchnum            13090\n",
              "Merchdescription    13126\n",
              "Merchstate            227\n",
              "Merchzip             4567\n",
              "Transtype               4\n",
              "Amount              34909\n",
              "Fraud                   2\n",
              "dtype: int64"
            ]
          },
          "metadata": {
            "tags": []
          },
          "execution_count": 11
        }
      ]
    },
    {
      "cell_type": "markdown",
      "metadata": {
        "id": "bMsQ_SdmwUCY",
        "colab_type": "text"
      },
      "source": [
        "### Cardnum\n",
        "Credit card number"
      ]
    },
    {
      "cell_type": "code",
      "metadata": {
        "id": "udDiPyVkwUCi",
        "colab_type": "code",
        "colab": {
          "base_uri": "https://localhost:8080/",
          "height": 469
        },
        "outputId": "e51ee68f-398a-4855-ead3-90598789f2ab"
      },
      "source": [
        "sns.set()\n",
        "plt.figure(figsize=(10,6))\n",
        "data['Cardnum'].value_counts().head(15).plot(kind = 'bar')\n",
        "plt.ylabel('Frequency')\n",
        "plt.xlabel('Cardnum')\n",
        "plt.title('Cardnum (top 15)')\n",
        "plt.show()"
      ],
      "execution_count": null,
      "outputs": [
        {
          "output_type": "display_data",
          "data": {
            "image/png": "[encoded data removed]",
            "text/plain": [
              "<Figure size 720x432 with 1 Axes>"
            ]
          },
          "metadata": {
            "tags": []
          }
        }
      ]
    },
    {
      "cell_type": "markdown",
      "metadata": {
        "id": "a4AKncfMwUCn",
        "colab_type": "text"
      },
      "source": [
        "### Date\n",
        "Date of each credit card transaction"
      ]
    },
    {
      "cell_type": "code",
      "metadata": {
        "id": "PlZ25h3ewUCp",
        "colab_type": "code",
        "colab": {
          "base_uri": "https://localhost:8080/",
          "height": 34
        },
        "outputId": "f2040d85-1727-43c0-ca03-3dea30c6dace"
      },
      "source": [
        "print(data.Date.min(), data.Date.max())"
      ],
      "execution_count": null,
      "outputs": [
        {
          "output_type": "stream",
          "text": [
            "2010-01-01 00:00:00 2010-12-31 00:00:00\n"
          ],
          "name": "stdout"
        }
      ]
    },
    {
      "cell_type": "code",
      "metadata": {
        "id": "CdausnkZwUDC",
        "colab_type": "code",
        "colab": {
          "base_uri": "https://localhost:8080/",
          "height": 421
        },
        "outputId": "6ba101af-d82a-4b5d-d941-8a4a50d02298"
      },
      "source": [
        "plt.figure(figsize=(10,6))\n",
        "data.set_index('Date').resample(timedelta(days=1)).Recnum.count().plot()\n",
        "plt.ylabel('Frequency')\n",
        "plt.xlabel('Date')\n",
        "plt.title('Daily Transactions')\n",
        "plt.show()"
      ],
      "execution_count": null,
      "outputs": [
        {
          "output_type": "display_data",
          "data": {
            "image/png": "[encoded data removed]",
            "text/plain": [
              "<Figure size 720x432 with 1 Axes>"
            ]
          },
          "metadata": {
            "tags": []
          }
        }
      ]
    },
    {
      "cell_type": "markdown",
      "metadata": {
        "id": "Klxw2cWV3xvn",
        "colab_type": "text"
      },
      "source": [
        "The daily transactions graph below indicates that there is a natural weekly seasonality (weekdays vs weekend)."
      ]
    },
    {
      "cell_type": "code",
      "metadata": {
        "id": "QdE-773N4-i9",
        "colab_type": "code",
        "colab": {}
      },
      "source": [
        "weekly_count = data.set_index('Date').resample(timedelta(days=7)).Recnum.count()"
      ],
      "execution_count": null,
      "outputs": []
    },
    {
      "cell_type": "code",
      "metadata": {
        "id": "A_3RHbtf7itu",
        "colab_type": "code",
        "colab": {
          "base_uri": "https://localhost:8080/",
          "height": 136
        },
        "outputId": "fcbb9d79-c1a6-44df-83ff-b22b4e61a70f"
      },
      "source": [
        "weekly_count.tail()"
      ],
      "execution_count": null,
      "outputs": [
        {
          "output_type": "execute_result",
          "data": {
            "text/plain": [
              "Date\n",
              "2010-12-03    1602\n",
              "2010-12-10    1828\n",
              "2010-12-17    1582\n",
              "2010-12-24     941\n",
              "2010-12-31      53\n",
              "Freq: 7D, Name: Recnum, dtype: int64"
            ]
          },
          "metadata": {
            "tags": []
          },
          "execution_count": 16
        }
      ]
    },
    {
      "cell_type": "markdown",
      "metadata": {
        "id": "85ow_PNM7lp9",
        "colab_type": "text"
      },
      "source": [
        "I replace the frequency in the week of 2010-12-31 with the frequency in the week of 2010-12-24 for the weekly transactions graph since the week of 2010-12-31 is connected to the next year."
      ]
    },
    {
      "cell_type": "code",
      "metadata": {
        "id": "t9rcqMc9wUDZ",
        "colab_type": "code",
        "colab": {}
      },
      "source": [
        "weekly_count['2010-12-31'] = weekly_count['2010-12-24']"
      ],
      "execution_count": null,
      "outputs": []
    },
    {
      "cell_type": "code",
      "metadata": {
        "id": "pzHeQd3jwUDf",
        "colab_type": "code",
        "colab": {
          "base_uri": "https://localhost:8080/",
          "height": 421
        },
        "outputId": "b3161da5-b036-440a-eefa-35a9dba3f3a9"
      },
      "source": [
        "plt.figure(figsize=(10,6))\n",
        "weekly_count.plot()\n",
        "plt.ylabel('Frequency')\n",
        "plt.xlabel('Date')\n",
        "plt.title('Weekly Transactions')\n",
        "plt.show()"
      ],
      "execution_count": null,
      "outputs": [
        {
          "output_type": "display_data",
          "data": {
            "image/png": "[encoded data removed]",
            "text/plain": [
              "<Figure size 720x432 with 1 Axes>"
            ]
          },
          "metadata": {
            "tags": []
          }
        }
      ]
    },
    {
      "cell_type": "code",
      "metadata": {
        "id": "BvP8tCp7wUDl",
        "colab_type": "code",
        "colab": {}
      },
      "source": [
        "monthly_count = data.set_index('Date').resample(timedelta(days=30)).Recnum.count()"
      ],
      "execution_count": null,
      "outputs": []
    },
    {
      "cell_type": "code",
      "metadata": {
        "id": "Xv7g6IWIwUDs",
        "colab_type": "code",
        "colab": {
          "base_uri": "https://localhost:8080/",
          "height": 136
        },
        "outputId": "f1029707-e2a2-4630-dea3-5f3714f76870"
      },
      "source": [
        "monthly_count.tail()"
      ],
      "execution_count": null,
      "outputs": [
        {
          "output_type": "execute_result",
          "data": {
            "text/plain": [
              "Date\n",
              "2010-08-29    10199\n",
              "2010-09-28     5690\n",
              "2010-10-28     5836\n",
              "2010-11-27     6285\n",
              "2010-12-27      931\n",
              "Freq: 30D, Name: Recnum, dtype: int64"
            ]
          },
          "metadata": {
            "tags": []
          },
          "execution_count": 20
        }
      ]
    },
    {
      "cell_type": "markdown",
      "metadata": {
        "id": "KiY7cmkewUDw",
        "colab_type": "text"
      },
      "source": [
        "I replace the frequency in the month of 2010-12-27 with the frequency in the month of 2010-11-27 for the monthly transactions graph since the month of 2010-12-27 is connected to the next year."
      ]
    },
    {
      "cell_type": "code",
      "metadata": {
        "id": "y_HNV6bnwUD9",
        "colab_type": "code",
        "colab": {}
      },
      "source": [
        "monthly_count['2010-12-27'] = monthly_count['2010-11-27']"
      ],
      "execution_count": null,
      "outputs": []
    },
    {
      "cell_type": "code",
      "metadata": {
        "id": "T5kRcdXbwUED",
        "colab_type": "code",
        "colab": {
          "base_uri": "https://localhost:8080/",
          "height": 421
        },
        "outputId": "ec2c899b-4d41-4e08-ee3b-7bfbed761bb9"
      },
      "source": [
        "plt.figure(figsize=(10,6))\n",
        "monthly_count.plot()\n",
        "plt.ylabel('Frequency')\n",
        "plt.xlabel('Date')\n",
        "plt.title('Monthly Transactions')\n",
        "plt.show()"
      ],
      "execution_count": null,
      "outputs": [
        {
          "output_type": "display_data",
          "data": {
            "image/png": "[encoded data removed]",
            "text/plain": [
              "<Figure size 720x432 with 1 Axes>"
            ]
          },
          "metadata": {
            "tags": []
          }
        }
      ]
    },
    {
      "cell_type": "markdown",
      "metadata": {
        "id": "jCyY-zQq8VOF",
        "colab_type": "text"
      },
      "source": [
        "The monthly transactions graph below suggests that there is an annual seasonality with a sharp decrease in October due to the fiscal year cycle."
      ]
    },
    {
      "cell_type": "markdown",
      "metadata": {
        "id": "HJDvaafBwUER",
        "colab_type": "text"
      },
      "source": [
        "### Merchnum\n",
        "Unique number assigned to each merchant"
      ]
    },
    {
      "cell_type": "code",
      "metadata": {
        "scrolled": true,
        "id": "WRLMLy4ywUE6",
        "colab_type": "code",
        "colab": {
          "base_uri": "https://localhost:8080/",
          "height": 490
        },
        "outputId": "30f7ec57-7c3e-473a-d0c9-7bdcf7a7f671"
      },
      "source": [
        "plt.figure(figsize=(10,6))\n",
        "data['Merchnum'].value_counts().head(15).plot(kind = 'bar')\n",
        "plt.ylabel('Frequency')\n",
        "plt.xlabel('Merchnum')\n",
        "plt.title('Merchnum (top 15)')\n",
        "plt.show()"
      ],
      "execution_count": null,
      "outputs": [
        {
          "output_type": "display_data",
          "data": {
            "image/png": "[encoded data removed]",
            "text/plain": [
              "<Figure size 720x432 with 1 Axes>"
            ]
          },
          "metadata": {
            "tags": []
          }
        }
      ]
    },
    {
      "cell_type": "markdown",
      "metadata": {
        "id": "EAXVbSz2wUFQ",
        "colab_type": "text"
      },
      "source": [
        "### Merchdescription\n",
        "Description of each merchant"
      ]
    },
    {
      "cell_type": "code",
      "metadata": {
        "id": "hYAWCNnAwUFk",
        "colab_type": "code",
        "colab": {
          "base_uri": "https://localhost:8080/",
          "height": 374
        },
        "outputId": "e49578a4-848d-4896-80a6-4fc495ebeb8f"
      },
      "source": [
        "data['Merchdescription'].value_counts().head(20)"
      ],
      "execution_count": null,
      "outputs": [
        {
          "output_type": "execute_result",
          "data": {
            "text/plain": [
              "GSA-FSS-ADV                 1688\n",
              "SIGMA-ALDRICH               1635\n",
              "STAPLES #941                1174\n",
              "FISHER SCI ATL              1093\n",
              "MWI*MICRO WAREHOUSE          958\n",
              "CDW*GOVERNMENT INC           872\n",
              "DELL MARKETING L.P.          816\n",
              "FISHER SCI CHI               783\n",
              "AMAZON.COM  *SUPERSTOR       750\n",
              "OFFICE DEPOT #1082           748\n",
              "VWR SCIENTIFIC PROD VCTS     688\n",
              "PC *PC CONNECTION            570\n",
              "C & C PRODUCT SERVICES       558\n",
              "BUY.COM                      481\n",
              "FISHER SCI HUS               442\n",
              "GSA/CUST SUPPLY CTR 97       435\n",
              "LAB SAFETY SUPPLY, INC       431\n",
              "PROFESS OFC ENTERPRISES      421\n",
              "FRANKLIN COVEY COMPANY       418\n",
              "STAPLES NATIONAL #471        417\n",
              "Name: Merchdescription, dtype: int64"
            ]
          },
          "metadata": {
            "tags": []
          },
          "execution_count": 24
        }
      ]
    },
    {
      "cell_type": "markdown",
      "metadata": {
        "id": "mLSzcmzQwUFr",
        "colab_type": "text"
      },
      "source": [
        "### Merchstate\n",
        "Abbreviation of the state where each merchant is located"
      ]
    },
    {
      "cell_type": "code",
      "metadata": {
        "id": "2WPuwfWjwUF2",
        "colab_type": "code",
        "colab": {
          "base_uri": "https://localhost:8080/",
          "height": 418
        },
        "outputId": "fea69c3e-53e0-4675-9192-c70194ade35f"
      },
      "source": [
        "plt.figure(figsize=(10,6))\n",
        "data['Merchstate'].value_counts().head(15).plot(kind = 'bar')\n",
        "plt.ylabel('Frequency')\n",
        "plt.xlabel('Merchstate')\n",
        "plt.title('Merchstate (top 15)')\n",
        "plt.show()"
      ],
      "execution_count": null,
      "outputs": [
        {
          "output_type": "display_data",
          "data": {
            "image/png": "[encoded data removed]",
            "text/plain": [
              "<Figure size 720x432 with 1 Axes>"
            ]
          },
          "metadata": {
            "tags": []
          }
        }
      ]
    },
    {
      "cell_type": "markdown",
      "metadata": {
        "id": "r1fyLHlWwUF-",
        "colab_type": "text"
      },
      "source": [
        "### Merchzip\n",
        "5 digit zip code of each merchant"
      ]
    },
    {
      "cell_type": "code",
      "metadata": {
        "id": "oNFpWRrewUGH",
        "colab_type": "code",
        "colab": {
          "base_uri": "https://localhost:8080/",
          "height": 445
        },
        "outputId": "5166eb12-5a3a-41f0-a418-aeb316a25b7d"
      },
      "source": [
        "plt.figure(figsize=(10,6))\n",
        "data['Merchzip'].value_counts().head(15).plot(kind = 'bar')\n",
        "plt.ylabel('Frequency')\n",
        "plt.xlabel('Merchzip')\n",
        "plt.title('Merchzip (top 15)')\n",
        "plt.show()"
      ],
      "execution_count": null,
      "outputs": [
        {
          "output_type": "display_data",
          "data": {
            "image/png": "[encoded data removed]",
            "text/plain": [
              "<Figure size 720x432 with 1 Axes>"
            ]
          },
          "metadata": {
            "tags": []
          }
        }
      ]
    },
    {
      "cell_type": "markdown",
      "metadata": {
        "id": "I67CxPflwUGM",
        "colab_type": "text"
      },
      "source": [
        "### Transtype\n",
        "Type of each transaction (there are 4 types of transactions but we will only focus on Purchase for this project)."
      ]
    },
    {
      "cell_type": "code",
      "metadata": {
        "id": "Zfdcv-ixwUGT",
        "colab_type": "code",
        "colab": {
          "base_uri": "https://localhost:8080/",
          "height": 102
        },
        "outputId": "45bfca13-7725-4381-bd7e-68b6437d51db"
      },
      "source": [
        "data['Transtype'].value_counts()"
      ],
      "execution_count": null,
      "outputs": [
        {
          "output_type": "execute_result",
          "data": {
            "text/plain": [
              "P    96398\n",
              "A      181\n",
              "D      173\n",
              "Y        1\n",
              "Name: Transtype, dtype: int64"
            ]
          },
          "metadata": {
            "tags": []
          },
          "execution_count": 27
        }
      ]
    },
    {
      "cell_type": "markdown",
      "metadata": {
        "id": "huT2EH9GwUGb",
        "colab_type": "text"
      },
      "source": [
        "### Amount\n",
        "The dollar amount of each credit card transaction"
      ]
    },
    {
      "cell_type": "code",
      "metadata": {
        "id": "g_c0qesf_4S_",
        "colab_type": "code",
        "colab": {
          "base_uri": "https://localhost:8080/",
          "height": 170
        },
        "outputId": "f9e46666-704c-4656-8e8b-942c1ebd14a0"
      },
      "source": [
        "data.Amount.describe()"
      ],
      "execution_count": null,
      "outputs": [
        {
          "output_type": "execute_result",
          "data": {
            "text/plain": [
              "count    9.675300e+04\n",
              "mean     4.278857e+02\n",
              "std      1.000614e+04\n",
              "min      1.000000e-02\n",
              "25%      3.348000e+01\n",
              "50%      1.379800e+02\n",
              "75%      4.282000e+02\n",
              "max      3.102046e+06\n",
              "Name: Amount, dtype: float64"
            ]
          },
          "metadata": {
            "tags": []
          },
          "execution_count": 28
        }
      ]
    },
    {
      "cell_type": "code",
      "metadata": {
        "id": "i7O-nyVd_viC",
        "colab_type": "code",
        "colab": {
          "base_uri": "https://localhost:8080/",
          "height": 302
        },
        "outputId": "040e4a42-2312-4cdd-9d46-d60b5c5c1bfe"
      },
      "source": [
        "sns.boxplot(data.Amount)"
      ],
      "execution_count": null,
      "outputs": [
        {
          "output_type": "execute_result",
          "data": {
            "text/plain": [
              "<matplotlib.axes._subplots.AxesSubplot at 0x7f367c6feb00>"
            ]
          },
          "metadata": {
            "tags": []
          },
          "execution_count": 29
        },
        {
          "output_type": "display_data",
          "data": {
            "image/png": "[encoded data removed]",
            "text/plain": [
              "<Figure size 432x288 with 1 Axes>"
            ]
          },
          "metadata": {
            "tags": []
          }
        }
      ]
    },
    {
      "cell_type": "markdown",
      "metadata": {
        "id": "EgVFVuQH_6rZ",
        "colab_type": "text"
      },
      "source": [
        "From the boxplot, I found one outlier which I will remove in the data cleaning stage."
      ]
    },
    {
      "cell_type": "code",
      "metadata": {
        "id": "-MI5DUJwwUHI",
        "colab_type": "code",
        "colab": {
          "base_uri": "https://localhost:8080/",
          "height": 410
        },
        "outputId": "959fb16d-8b1e-43e1-d763-1c0b2fd052b3"
      },
      "source": [
        "plt.figure(figsize=(10,6))\n",
        "plt.hist(data['Amount'], bins=50, range=[0,4000], edgecolor='blue', linewidth=1.2)\n",
        "plt.yscale('log')\n",
        "plt.ylim(bottom = .1)\n",
        "plt.xlabel('Amount')\n",
        "plt.title('Amount Distribution')\n",
        "plt.ylabel('log scale of Frequency')\n",
        "plt.show()"
      ],
      "execution_count": null,
      "outputs": [
        {
          "output_type": "display_data",
          "data": {
            "image/png": "[encoded data removed]",
            "text/plain": [
              "<Figure size 720x432 with 1 Axes>"
            ]
          },
          "metadata": {
            "tags": []
          }
        }
      ]
    },
    {
      "cell_type": "markdown",
      "metadata": {
        "id": "x2Mw1t-ZwUHR",
        "colab_type": "text"
      },
      "source": [
        "### Fraud\n",
        "Target label indicating whether a transaction is a fraud or not"
      ]
    },
    {
      "cell_type": "code",
      "metadata": {
        "id": "5Xyrh44rwUHR",
        "colab_type": "code",
        "colab": {
          "base_uri": "https://localhost:8080/",
          "height": 68
        },
        "outputId": "7cae2bfa-216c-4a47-9820-38f54c77a0a1"
      },
      "source": [
        "data['Fraud'].value_counts()"
      ],
      "execution_count": null,
      "outputs": [
        {
          "output_type": "execute_result",
          "data": {
            "text/plain": [
              "0    95694\n",
              "1     1059\n",
              "Name: Fraud, dtype: int64"
            ]
          },
          "metadata": {
            "tags": []
          },
          "execution_count": 31
        }
      ]
    },
    {
      "cell_type": "code",
      "metadata": {
        "id": "QtReZJ-zBQ-Z",
        "colab_type": "code",
        "colab": {
          "base_uri": "https://localhost:8080/",
          "height": 34
        },
        "outputId": "6c4c69d3-6e00-422e-9027-4a013e02e62c"
      },
      "source": [
        "print(f'Overall fraud rate is {round(len(data[data.Fraud==1])/len(data),4)*100}%')"
      ],
      "execution_count": null,
      "outputs": [
        {
          "output_type": "stream",
          "text": [
            "Overall fraud rate is 1.09%\n"
          ],
          "name": "stdout"
        }
      ]
    },
    {
      "cell_type": "markdown",
      "metadata": {
        "id": "51Ad0XQqCKOQ",
        "colab_type": "text"
      },
      "source": [
        "## Data Cleaning"
      ]
    },
    {
      "cell_type": "markdown",
      "metadata": {
        "id": "SrkBvQPkEnvp",
        "colab_type": "text"
      },
      "source": [
        "### Identify exclusion and bad records"
      ]
    },
    {
      "cell_type": "markdown",
      "metadata": {
        "id": "J9EUkZj0Ca06",
        "colab_type": "text"
      },
      "source": [
        "I first filter the dataset by ‘P’ type transaction only to analyze normal transactions and exclude a single outlier in the Amount field."
      ]
    },
    {
      "cell_type": "code",
      "metadata": {
        "id": "6ZEy7slwCP-W",
        "colab_type": "code",
        "colab": {}
      },
      "source": [
        "data = data[data['Transtype'] == 'P']\n",
        "data = data[data.Amount<=1000000].copy()"
      ],
      "execution_count": null,
      "outputs": []
    },
    {
      "cell_type": "code",
      "metadata": {
        "id": "qQ0G4JqBDZMn",
        "colab_type": "code",
        "colab": {
          "base_uri": "https://localhost:8080/",
          "height": 419
        },
        "outputId": "32b984ee-fc29-464a-c70f-eb8290a7d954"
      },
      "source": [
        "data"
      ],
      "execution_count": null,
      "outputs": [
        {
          "output_type": "execute_result",
          "data": {
            "text/html": [
              "<div>\n",
              "<style scoped>\n",
              "    .dataframe tbody tr th:only-of-type {\n",
              "        vertical-align: middle;\n",
              "    }\n",
              "\n",
              "    .dataframe tbody tr th {\n",
              "        vertical-align: top;\n",
              "    }\n",
              "\n",
              "    .dataframe thead th {\n",
              "        text-align: right;\n",
              "    }\n",
              "</style>\n",
              "<table border=\"1\" class=\"dataframe\">\n",
              "  <thead>\n",
              "    <tr style=\"text-align: right;\">\n",
              "      <th></th>\n",
              "      <th>Recnum</th>\n",
              "      <th>Cardnum</th>\n",
              "      <th>Date</th>\n",
              "      <th>Merchnum</th>\n",
              "      <th>Merchdescription</th>\n",
              "      <th>Merchstate</th>\n",
              "      <th>Merchzip</th>\n",
              "      <th>Transtype</th>\n",
              "      <th>Amount</th>\n",
              "      <th>Fraud</th>\n",
              "    </tr>\n",
              "  </thead>\n",
              "  <tbody>\n",
              "    <tr>\n",
              "      <th>0</th>\n",
              "      <td>1</td>\n",
              "      <td>5142190439</td>\n",
              "      <td>2010-01-01</td>\n",
              "      <td>5509006296254</td>\n",
              "      <td>FEDEX SHP 12/23/09 AB#</td>\n",
              "      <td>TN</td>\n",
              "      <td>38118.0</td>\n",
              "      <td>P</td>\n",
              "      <td>3.62</td>\n",
              "      <td>0</td>\n",
              "    </tr>\n",
              "    <tr>\n",
              "      <th>1</th>\n",
              "      <td>2</td>\n",
              "      <td>5142183973</td>\n",
              "      <td>2010-01-01</td>\n",
              "      <td>61003026333</td>\n",
              "      <td>SERVICE MERCHANDISE #81</td>\n",
              "      <td>MA</td>\n",
              "      <td>1803.0</td>\n",
              "      <td>P</td>\n",
              "      <td>31.42</td>\n",
              "      <td>0</td>\n",
              "    </tr>\n",
              "    <tr>\n",
              "      <th>2</th>\n",
              "      <td>3</td>\n",
              "      <td>5142131721</td>\n",
              "      <td>2010-01-01</td>\n",
              "      <td>4503082993600</td>\n",
              "      <td>OFFICE DEPOT #191</td>\n",
              "      <td>MD</td>\n",
              "      <td>20706.0</td>\n",
              "      <td>P</td>\n",
              "      <td>178.49</td>\n",
              "      <td>0</td>\n",
              "    </tr>\n",
              "    <tr>\n",
              "      <th>3</th>\n",
              "      <td>4</td>\n",
              "      <td>5142148452</td>\n",
              "      <td>2010-01-01</td>\n",
              "      <td>5509006296254</td>\n",
              "      <td>FEDEX SHP 12/28/09 AB#</td>\n",
              "      <td>TN</td>\n",
              "      <td>38118.0</td>\n",
              "      <td>P</td>\n",
              "      <td>3.62</td>\n",
              "      <td>0</td>\n",
              "    </tr>\n",
              "    <tr>\n",
              "      <th>4</th>\n",
              "      <td>5</td>\n",
              "      <td>5142190439</td>\n",
              "      <td>2010-01-01</td>\n",
              "      <td>5509006296254</td>\n",
              "      <td>FEDEX SHP 12/23/09 AB#</td>\n",
              "      <td>TN</td>\n",
              "      <td>38118.0</td>\n",
              "      <td>P</td>\n",
              "      <td>3.62</td>\n",
              "      <td>0</td>\n",
              "    </tr>\n",
              "    <tr>\n",
              "      <th>...</th>\n",
              "      <td>...</td>\n",
              "      <td>...</td>\n",
              "      <td>...</td>\n",
              "      <td>...</td>\n",
              "      <td>...</td>\n",
              "      <td>...</td>\n",
              "      <td>...</td>\n",
              "      <td>...</td>\n",
              "      <td>...</td>\n",
              "      <td>...</td>\n",
              "    </tr>\n",
              "    <tr>\n",
              "      <th>96748</th>\n",
              "      <td>96749</td>\n",
              "      <td>5142276053</td>\n",
              "      <td>2010-12-31</td>\n",
              "      <td>3500000006160</td>\n",
              "      <td>BEST BUY      00001610</td>\n",
              "      <td>KY</td>\n",
              "      <td>41042.0</td>\n",
              "      <td>P</td>\n",
              "      <td>84.79</td>\n",
              "      <td>0</td>\n",
              "    </tr>\n",
              "    <tr>\n",
              "      <th>96749</th>\n",
              "      <td>96750</td>\n",
              "      <td>5142225701</td>\n",
              "      <td>2010-12-31</td>\n",
              "      <td>8090710030950</td>\n",
              "      <td>MARKUS OFFICE SUPPLIES</td>\n",
              "      <td>OH</td>\n",
              "      <td>45248.0</td>\n",
              "      <td>P</td>\n",
              "      <td>118.75</td>\n",
              "      <td>0</td>\n",
              "    </tr>\n",
              "    <tr>\n",
              "      <th>96750</th>\n",
              "      <td>96751</td>\n",
              "      <td>5142226486</td>\n",
              "      <td>2010-12-31</td>\n",
              "      <td>4503057341100</td>\n",
              "      <td>TECH PAC, INC</td>\n",
              "      <td>OH</td>\n",
              "      <td>45150.0</td>\n",
              "      <td>P</td>\n",
              "      <td>363.56</td>\n",
              "      <td>0</td>\n",
              "    </tr>\n",
              "    <tr>\n",
              "      <th>96751</th>\n",
              "      <td>96752</td>\n",
              "      <td>5142244619</td>\n",
              "      <td>2010-12-31</td>\n",
              "      <td>8834000695412</td>\n",
              "      <td>BUY.COM</td>\n",
              "      <td>CA</td>\n",
              "      <td>92656.0</td>\n",
              "      <td>P</td>\n",
              "      <td>2202.03</td>\n",
              "      <td>0</td>\n",
              "    </tr>\n",
              "    <tr>\n",
              "      <th>96752</th>\n",
              "      <td>96753</td>\n",
              "      <td>5142243247</td>\n",
              "      <td>2010-12-31</td>\n",
              "      <td>9108347680006</td>\n",
              "      <td>STAPLES NATIONAL #471</td>\n",
              "      <td>NJ</td>\n",
              "      <td>7606.0</td>\n",
              "      <td>P</td>\n",
              "      <td>554.64</td>\n",
              "      <td>0</td>\n",
              "    </tr>\n",
              "  </tbody>\n",
              "</table>\n",
              "<p>96397 rows × 10 columns</p>\n",
              "</div>"
            ],
            "text/plain": [
              "       Recnum     Cardnum       Date  ... Transtype   Amount Fraud\n",
              "0           1  5142190439 2010-01-01  ...         P     3.62     0\n",
              "1           2  5142183973 2010-01-01  ...         P    31.42     0\n",
              "2           3  5142131721 2010-01-01  ...         P   178.49     0\n",
              "3           4  5142148452 2010-01-01  ...         P     3.62     0\n",
              "4           5  5142190439 2010-01-01  ...         P     3.62     0\n",
              "...       ...         ...        ...  ...       ...      ...   ...\n",
              "96748   96749  5142276053 2010-12-31  ...         P    84.79     0\n",
              "96749   96750  5142225701 2010-12-31  ...         P   118.75     0\n",
              "96750   96751  5142226486 2010-12-31  ...         P   363.56     0\n",
              "96751   96752  5142244619 2010-12-31  ...         P  2202.03     0\n",
              "96752   96753  5142243247 2010-12-31  ...         P   554.64     0\n",
              "\n",
              "[96397 rows x 10 columns]"
            ]
          },
          "metadata": {
            "tags": []
          },
          "execution_count": 34
        }
      ]
    },
    {
      "cell_type": "markdown",
      "metadata": {
        "id": "zU7r_uX4Ere4",
        "colab_type": "text"
      },
      "source": [
        "### Fill in missing values"
      ]
    },
    {
      "cell_type": "code",
      "metadata": {
        "id": "NR_EnVo8E6Nh",
        "colab_type": "code",
        "colab": {
          "base_uri": "https://localhost:8080/",
          "height": 204
        },
        "outputId": "3ee63233-8308-4fb4-a4ad-814b59d42533"
      },
      "source": [
        "data.isna().sum()"
      ],
      "execution_count": null,
      "outputs": [
        {
          "output_type": "execute_result",
          "data": {
            "text/plain": [
              "Recnum                 0\n",
              "Cardnum                0\n",
              "Date                   0\n",
              "Merchnum            3251\n",
              "Merchdescription       0\n",
              "Merchstate          1020\n",
              "Merchzip            4300\n",
              "Transtype              0\n",
              "Amount                 0\n",
              "Fraud                  0\n",
              "dtype: int64"
            ]
          },
          "metadata": {
            "tags": []
          },
          "execution_count": 35
        }
      ]
    },
    {
      "cell_type": "code",
      "metadata": {
        "id": "wrvQMQIDEtTY",
        "colab_type": "code",
        "colab": {}
      },
      "source": [
        "col = [\"Cardnum\", \"Merchnum\", \"Merchstate\", \"Merchzip\"]\n",
        "for c in col:\n",
        "    data[c] = data[c].astype(str)"
      ],
      "execution_count": null,
      "outputs": []
    },
    {
      "cell_type": "markdown",
      "metadata": {
        "id": "7Qdoep1mFdyf",
        "colab_type": "text"
      },
      "source": [
        "- Merchnum: I group by Merchdescription and then by Cardnum to replace the null values with the most frequent values. For the rest of the null values, I replace them with Recnum.\n",
        "- Merchstate: I group by Merchnum to replace the null values with the most frequent values. For the rest of the null values, I replace them with Recnum.\n",
        "- Merchzip: I group by Merchnum to replace the null values with the most frequent values. For the rest of the null values, I replace them with Recnum."
      ]
    },
    {
      "cell_type": "code",
      "metadata": {
        "id": "iZowB9aUFjTY",
        "colab_type": "code",
        "colab": {}
      },
      "source": [
        "def most_frequent(df, col):\n",
        "    idx = df.reset_index()['count'].idxmax()\n",
        "    return df[col].iloc[idx]"
      ],
      "execution_count": null,
      "outputs": []
    },
    {
      "cell_type": "code",
      "metadata": {
        "id": "8O5OfpTWGQuE",
        "colab_type": "code",
        "colab": {}
      },
      "source": [
        "def replace_null(df, colname, linkingnames, alter=None):   \n",
        "    for linkingname in linkingnames:\n",
        "        initialnull = len(df[df[colname]=='nan'])\n",
        "        temp = df.groupby([linkingname, colname]).size().reset_index().rename(columns={0:'count'})\n",
        "        temp = temp.groupby(linkingname).apply(most_frequent, col=colname)\n",
        "        df['mode_'+colname+'_groupby_'+linkingname] = df[linkingname].map(temp)\n",
        "        df[colname] = np.where(df[colname]=='nan', df['mode_'+colname+'_groupby_'+linkingname], df[colname])\n",
        "        endnull = len(df[df[colname]=='nan'])\n",
        "        print(f'using {linkingname} - initial: {initialnull} null values, replaced: {initialnull-endnull} null values, remaining: {endnull} null values')\n",
        "        df.drop(columns='mode_'+colname+'_groupby_'+linkingname, inplace=True)\n",
        "    \n",
        "    if (df[colname]=='nan').sum()>0 and alter:\n",
        "        df[colname] = np.where(df[colname]=='nan',df[alter],df[colname])\n",
        "        print(f'using alter_{alter} - initial: {endnull} null values, replaced: {endnull} null values, remaining: 0 null values')\n",
        "    \n",
        "    return df"
      ],
      "execution_count": null,
      "outputs": []
    },
    {
      "cell_type": "code",
      "metadata": {
        "id": "kEChxN3xhUMa",
        "colab_type": "code",
        "colab": {
          "base_uri": "https://localhost:8080/",
          "height": 68
        },
        "outputId": "c8b35fb2-34da-4290-fcb9-304a40ef9c5d"
      },
      "source": [
        "data = replace_null(data, 'Merchnum', ['Merchdescription','Cardnum'], 'Recnum')"
      ],
      "execution_count": null,
      "outputs": [
        {
          "output_type": "stream",
          "text": [
            "using Merchdescription - initial: 3251 null values, replaced: 424 null values, remaining: 2827 null values\n",
            "using Cardnum - initial: 2827 null values, replaced: 2102 null values, remaining: 725 null values\n",
            "using alter_Recnum - initial: 725 null values, replaced: 725 null values, remaining: 0 null values\n"
          ],
          "name": "stdout"
        }
      ]
    },
    {
      "cell_type": "code",
      "metadata": {
        "id": "yNAGdwvnHG56",
        "colab_type": "code",
        "colab": {
          "base_uri": "https://localhost:8080/",
          "height": 51
        },
        "outputId": "6e03805c-4ac2-4ee0-dfeb-c45c7d6f22ea"
      },
      "source": [
        "data = replace_null(data, 'Merchstate', ['Merchnum'], 'Recnum')"
      ],
      "execution_count": null,
      "outputs": [
        {
          "output_type": "stream",
          "text": [
            "using Merchnum - initial: 1020 null values, replaced: 623 null values, remaining: 397 null values\n",
            "using alter_Recnum - initial: 397 null values, replaced: 397 null values, remaining: 0 null values\n"
          ],
          "name": "stdout"
        }
      ]
    },
    {
      "cell_type": "code",
      "metadata": {
        "id": "Vb1LU8q1Iq7y",
        "colab_type": "code",
        "colab": {
          "base_uri": "https://localhost:8080/",
          "height": 51
        },
        "outputId": "32983ff6-1c83-412d-97f9-1f90a3ee324c"
      },
      "source": [
        "data = replace_null(data, 'Merchzip', ['Merchnum'], 'Recnum')"
      ],
      "execution_count": null,
      "outputs": [
        {
          "output_type": "stream",
          "text": [
            "using Merchnum - initial: 4300 null values, replaced: 1635 null values, remaining: 2665 null values\n",
            "using alter_Recnum - initial: 2665 null values, replaced: 2665 null values, remaining: 0 null values\n"
          ],
          "name": "stdout"
        }
      ]
    },
    {
      "cell_type": "code",
      "metadata": {
        "id": "VxNfcEr4KWTP",
        "colab_type": "code",
        "colab": {
          "base_uri": "https://localhost:8080/",
          "height": 419
        },
        "outputId": "d23dfa4b-3f94-485c-bbea-2e246505c13d"
      },
      "source": [
        "data"
      ],
      "execution_count": null,
      "outputs": [
        {
          "output_type": "execute_result",
          "data": {
            "text/html": [
              "<div>\n",
              "<style scoped>\n",
              "    .dataframe tbody tr th:only-of-type {\n",
              "        vertical-align: middle;\n",
              "    }\n",
              "\n",
              "    .dataframe tbody tr th {\n",
              "        vertical-align: top;\n",
              "    }\n",
              "\n",
              "    .dataframe thead th {\n",
              "        text-align: right;\n",
              "    }\n",
              "</style>\n",
              "<table border=\"1\" class=\"dataframe\">\n",
              "  <thead>\n",
              "    <tr style=\"text-align: right;\">\n",
              "      <th></th>\n",
              "      <th>Recnum</th>\n",
              "      <th>Cardnum</th>\n",
              "      <th>Date</th>\n",
              "      <th>Merchnum</th>\n",
              "      <th>Merchdescription</th>\n",
              "      <th>Merchstate</th>\n",
              "      <th>Merchzip</th>\n",
              "      <th>Transtype</th>\n",
              "      <th>Amount</th>\n",
              "      <th>Fraud</th>\n",
              "    </tr>\n",
              "  </thead>\n",
              "  <tbody>\n",
              "    <tr>\n",
              "      <th>0</th>\n",
              "      <td>1</td>\n",
              "      <td>5142190439</td>\n",
              "      <td>2010-01-01</td>\n",
              "      <td>5509006296254</td>\n",
              "      <td>FEDEX SHP 12/23/09 AB#</td>\n",
              "      <td>TN</td>\n",
              "      <td>38118.0</td>\n",
              "      <td>P</td>\n",
              "      <td>3.62</td>\n",
              "      <td>0</td>\n",
              "    </tr>\n",
              "    <tr>\n",
              "      <th>1</th>\n",
              "      <td>2</td>\n",
              "      <td>5142183973</td>\n",
              "      <td>2010-01-01</td>\n",
              "      <td>61003026333</td>\n",
              "      <td>SERVICE MERCHANDISE #81</td>\n",
              "      <td>MA</td>\n",
              "      <td>1803.0</td>\n",
              "      <td>P</td>\n",
              "      <td>31.42</td>\n",
              "      <td>0</td>\n",
              "    </tr>\n",
              "    <tr>\n",
              "      <th>2</th>\n",
              "      <td>3</td>\n",
              "      <td>5142131721</td>\n",
              "      <td>2010-01-01</td>\n",
              "      <td>4503082993600</td>\n",
              "      <td>OFFICE DEPOT #191</td>\n",
              "      <td>MD</td>\n",
              "      <td>20706.0</td>\n",
              "      <td>P</td>\n",
              "      <td>178.49</td>\n",
              "      <td>0</td>\n",
              "    </tr>\n",
              "    <tr>\n",
              "      <th>3</th>\n",
              "      <td>4</td>\n",
              "      <td>5142148452</td>\n",
              "      <td>2010-01-01</td>\n",
              "      <td>5509006296254</td>\n",
              "      <td>FEDEX SHP 12/28/09 AB#</td>\n",
              "      <td>TN</td>\n",
              "      <td>38118.0</td>\n",
              "      <td>P</td>\n",
              "      <td>3.62</td>\n",
              "      <td>0</td>\n",
              "    </tr>\n",
              "    <tr>\n",
              "      <th>4</th>\n",
              "      <td>5</td>\n",
              "      <td>5142190439</td>\n",
              "      <td>2010-01-01</td>\n",
              "      <td>5509006296254</td>\n",
              "      <td>FEDEX SHP 12/23/09 AB#</td>\n",
              "      <td>TN</td>\n",
              "      <td>38118.0</td>\n",
              "      <td>P</td>\n",
              "      <td>3.62</td>\n",
              "      <td>0</td>\n",
              "    </tr>\n",
              "    <tr>\n",
              "      <th>...</th>\n",
              "      <td>...</td>\n",
              "      <td>...</td>\n",
              "      <td>...</td>\n",
              "      <td>...</td>\n",
              "      <td>...</td>\n",
              "      <td>...</td>\n",
              "      <td>...</td>\n",
              "      <td>...</td>\n",
              "      <td>...</td>\n",
              "      <td>...</td>\n",
              "    </tr>\n",
              "    <tr>\n",
              "      <th>96748</th>\n",
              "      <td>96749</td>\n",
              "      <td>5142276053</td>\n",
              "      <td>2010-12-31</td>\n",
              "      <td>3500000006160</td>\n",
              "      <td>BEST BUY      00001610</td>\n",
              "      <td>KY</td>\n",
              "      <td>41042.0</td>\n",
              "      <td>P</td>\n",
              "      <td>84.79</td>\n",
              "      <td>0</td>\n",
              "    </tr>\n",
              "    <tr>\n",
              "      <th>96749</th>\n",
              "      <td>96750</td>\n",
              "      <td>5142225701</td>\n",
              "      <td>2010-12-31</td>\n",
              "      <td>8090710030950</td>\n",
              "      <td>MARKUS OFFICE SUPPLIES</td>\n",
              "      <td>OH</td>\n",
              "      <td>45248.0</td>\n",
              "      <td>P</td>\n",
              "      <td>118.75</td>\n",
              "      <td>0</td>\n",
              "    </tr>\n",
              "    <tr>\n",
              "      <th>96750</th>\n",
              "      <td>96751</td>\n",
              "      <td>5142226486</td>\n",
              "      <td>2010-12-31</td>\n",
              "      <td>4503057341100</td>\n",
              "      <td>TECH PAC, INC</td>\n",
              "      <td>OH</td>\n",
              "      <td>45150.0</td>\n",
              "      <td>P</td>\n",
              "      <td>363.56</td>\n",
              "      <td>0</td>\n",
              "    </tr>\n",
              "    <tr>\n",
              "      <th>96751</th>\n",
              "      <td>96752</td>\n",
              "      <td>5142244619</td>\n",
              "      <td>2010-12-31</td>\n",
              "      <td>8834000695412</td>\n",
              "      <td>BUY.COM</td>\n",
              "      <td>CA</td>\n",
              "      <td>92656.0</td>\n",
              "      <td>P</td>\n",
              "      <td>2202.03</td>\n",
              "      <td>0</td>\n",
              "    </tr>\n",
              "    <tr>\n",
              "      <th>96752</th>\n",
              "      <td>96753</td>\n",
              "      <td>5142243247</td>\n",
              "      <td>2010-12-31</td>\n",
              "      <td>9108347680006</td>\n",
              "      <td>STAPLES NATIONAL #471</td>\n",
              "      <td>NJ</td>\n",
              "      <td>7606.0</td>\n",
              "      <td>P</td>\n",
              "      <td>554.64</td>\n",
              "      <td>0</td>\n",
              "    </tr>\n",
              "  </tbody>\n",
              "</table>\n",
              "<p>96397 rows × 10 columns</p>\n",
              "</div>"
            ],
            "text/plain": [
              "       Recnum     Cardnum       Date  ... Transtype   Amount Fraud\n",
              "0           1  5142190439 2010-01-01  ...         P     3.62     0\n",
              "1           2  5142183973 2010-01-01  ...         P    31.42     0\n",
              "2           3  5142131721 2010-01-01  ...         P   178.49     0\n",
              "3           4  5142148452 2010-01-01  ...         P     3.62     0\n",
              "4           5  5142190439 2010-01-01  ...         P     3.62     0\n",
              "...       ...         ...        ...  ...       ...      ...   ...\n",
              "96748   96749  5142276053 2010-12-31  ...         P    84.79     0\n",
              "96749   96750  5142225701 2010-12-31  ...         P   118.75     0\n",
              "96750   96751  5142226486 2010-12-31  ...         P   363.56     0\n",
              "96751   96752  5142244619 2010-12-31  ...         P  2202.03     0\n",
              "96752   96753  5142243247 2010-12-31  ...         P   554.64     0\n",
              "\n",
              "[96397 rows x 10 columns]"
            ]
          },
          "metadata": {
            "tags": []
          },
          "execution_count": 42
        }
      ]
    },
    {
      "cell_type": "code",
      "metadata": {
        "id": "3RihyTJuKZJ6",
        "colab_type": "code",
        "colab": {}
      },
      "source": [
        "data.to_csv('/content/drive/My Drive/5. USC/3. Spring 2020/DSO562 Fraud/Project/project03/card transactions_cleaned.csv')"
      ],
      "execution_count": null,
      "outputs": []
    },
    {
      "cell_type": "code",
      "metadata": {
        "id": "SP_3xFfDKmYC",
        "colab_type": "code",
        "colab": {
          "base_uri": "https://localhost:8080/",
          "height": 68
        },
        "outputId": "77243783-b535-4e51-ddea-0da09be7cd92"
      },
      "source": [
        "stop_time = pd.datetime.now()\n",
        "print('duration: ', stop_time - start_time)"
      ],
      "execution_count": null,
      "outputs": [
        {
          "output_type": "stream",
          "text": [
            "duration:  0:00:55.161631\n"
          ],
          "name": "stdout"
        },
        {
          "output_type": "stream",
          "text": [
            "/usr/local/lib/python3.6/dist-packages/ipykernel_launcher.py:1: FutureWarning: The pandas.datetime class is deprecated and will be removed from pandas in a future version. Import from datetime instead.\n",
            "  \"\"\"Entry point for launching an IPython kernel.\n"
          ],
          "name": "stderr"
        }
      ]
    }
  ]
}
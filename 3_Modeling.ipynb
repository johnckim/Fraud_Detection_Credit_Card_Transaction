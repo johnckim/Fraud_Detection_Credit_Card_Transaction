{
  "nbformat": 4,
  "nbformat_minor": 0,
  "metadata": {
    "colab": {
      "name": "3.Modeling.ipynb",
      "provenance": [],
      "collapsed_sections": [],
      "machine_shape": "hm"
    },
    "kernelspec": {
      "name": "python3",
      "display_name": "Python 3"
    },
    "language_info": {
      "codemirror_mode": {
        "name": "ipython",
        "version": 3
      },
      "file_extension": ".py",
      "mimetype": "text/x-python",
      "name": "python",
      "nbconvert_exporter": "python",
      "pygments_lexer": "ipython3",
      "version": "3.7.3"
    }
  },
  "cells": [
    {
      "cell_type": "markdown",
      "metadata": {
        "id": "hoeEnPOoA_KH",
        "colab_type": "text"
      },
      "source": [
        "In this notebook, I try logistic regression, random forest, and boosted trees to build fraud detection models. The goal is to capture the most fraud records when looking at the top 3% of the dataset ranked by the output of the model. In other words, the objective is to choose the model with the highest average fraud detection rate at 3% as our finalized model."
      ]
    },
    {
      "cell_type": "code",
      "metadata": {
        "id": "N3idM3aP72eC",
        "colab_type": "code",
        "colab": {
          "base_uri": "https://localhost:8080/",
          "height": 34
        },
        "outputId": "b8d139f9-c3e3-4cbe-ab8b-37ee56e19c74"
      },
      "source": [
        "from google.colab import drive\n",
        "drive.mount('/content/drive')"
      ],
      "execution_count": 1,
      "outputs": [
        {
          "output_type": "stream",
          "text": [
            "Drive already mounted at /content/drive; to attempt to forcibly remount, call drive.mount(\"/content/drive\", force_remount=True).\n"
          ],
          "name": "stdout"
        }
      ]
    },
    {
      "cell_type": "code",
      "metadata": {
        "colab_type": "code",
        "id": "feJITWZqvjPM",
        "colab": {
          "base_uri": "https://localhost:8080/",
          "height": 85
        },
        "outputId": "b4e3a6c9-16fb-4ade-da32-4a7a477b19a2"
      },
      "source": [
        "import pandas as pd\n",
        "import numpy as np\n",
        "from scipy import stats\n",
        "import matplotlib.pyplot as plt\n",
        "import seaborn as sns\n",
        "from datetime import datetime\n",
        "from datetime import timedelta\n",
        "import re\n",
        "start_time = pd.datetime.now()"
      ],
      "execution_count": 2,
      "outputs": [
        {
          "output_type": "stream",
          "text": [
            "/usr/local/lib/python3.6/dist-packages/statsmodels/tools/_testing.py:19: FutureWarning: pandas.util.testing is deprecated. Use the functions in the public API at pandas.testing instead.\n",
            "  import pandas.util.testing as tm\n",
            "/usr/local/lib/python3.6/dist-packages/ipykernel_launcher.py:9: FutureWarning: The pandas.datetime class is deprecated and will be removed from pandas in a future version. Import from datetime instead.\n",
            "  if __name__ == '__main__':\n"
          ],
          "name": "stderr"
        }
      ]
    },
    {
      "cell_type": "code",
      "metadata": {
        "id": "kzglnlJmSrw5",
        "colab_type": "code",
        "colab": {}
      },
      "source": [
        "from sklearn.preprocessing import StandardScaler\n",
        "from sklearn.linear_model import LogisticRegression\n",
        "from sklearn.model_selection import train_test_split\n",
        "from sklearn.ensemble import RandomForestClassifier\n",
        "from sklearn.ensemble import GradientBoostingClassifier\n",
        "import pickle"
      ],
      "execution_count": 29,
      "outputs": []
    },
    {
      "cell_type": "code",
      "metadata": {
        "colab_type": "code",
        "id": "RF3nLsbiScjL",
        "colab": {}
      },
      "source": [
        "df = pd.read_csv('/content/drive/My Drive/5. USC/3. Spring 2020/DSO562 Fraud/Project/project03/card transactions_final.csv', index_col=0)"
      ],
      "execution_count": 4,
      "outputs": []
    },
    {
      "cell_type": "code",
      "metadata": {
        "id": "NsYdIb5ATysV",
        "colab_type": "code",
        "colab": {
          "base_uri": "https://localhost:8080/",
          "height": 609
        },
        "outputId": "d359aeb7-dbe2-4982-c87c-7f8347eff835"
      },
      "source": [
        "df"
      ],
      "execution_count": 5,
      "outputs": [
        {
          "output_type": "execute_result",
          "data": {
            "text/html": [
              "<div>\n",
              "<style scoped>\n",
              "    .dataframe tbody tr th:only-of-type {\n",
              "        vertical-align: middle;\n",
              "    }\n",
              "\n",
              "    .dataframe tbody tr th {\n",
              "        vertical-align: top;\n",
              "    }\n",
              "\n",
              "    .dataframe thead th {\n",
              "        text-align: right;\n",
              "    }\n",
              "</style>\n",
              "<table border=\"1\" class=\"dataframe\">\n",
              "  <thead>\n",
              "    <tr style=\"text-align: right;\">\n",
              "      <th></th>\n",
              "      <th>Recnum</th>\n",
              "      <th>Date</th>\n",
              "      <th>Fraud</th>\n",
              "      <th>Cardnum_Merchnum_sum_7</th>\n",
              "      <th>Cardnum_Merchnum_max_3</th>\n",
              "      <th>Cardnum_Merchzip_max_3</th>\n",
              "      <th>Merchnum_sum_1</th>\n",
              "      <th>Cardnum_Merchzip_max_1</th>\n",
              "      <th>Cardnum_sum_1</th>\n",
              "      <th>Cardnum_Merchzip_max_0</th>\n",
              "      <th>Merchnum_max_1</th>\n",
              "      <th>Cardnum_max_0</th>\n",
              "      <th>Merchnum_max_3</th>\n",
              "      <th>Cardnum_max_14</th>\n",
              "      <th>Cardnum_sum_14</th>\n",
              "      <th>Cardnum_Merchzip_mean_0</th>\n",
              "      <th>Cardnum_mean_0</th>\n",
              "      <th>Cardnum_Merchzip_mean_30</th>\n",
              "      <th>Cardnum_Merchnum_mean_7</th>\n",
              "      <th>Cardnum_Merchnum_mean_1</th>\n",
              "      <th>Cardnum_Merchzip_mean_14</th>\n",
              "      <th>Cardnum_Merchnum_max_7</th>\n",
              "      <th>Cardnum_Merchzip_max_30</th>\n",
              "      <th>Cardnum_sum_0</th>\n",
              "      <th>Cardnum_Merchstate_sum_3</th>\n",
              "      <th>Cardnum_Merchnum_sum_0</th>\n",
              "      <th>Cardnum_Merchzip_sum_30</th>\n",
              "      <th>Cardnum_Merchzip_sum_7</th>\n",
              "      <th>Cardnum_Merchstate_sum_14</th>\n",
              "      <th>Cardnum_Merchzip_sum_1</th>\n",
              "      <th>Cardnum_Merchzip_sum_0</th>\n",
              "    </tr>\n",
              "  </thead>\n",
              "  <tbody>\n",
              "    <tr>\n",
              "      <th>0</th>\n",
              "      <td>1</td>\n",
              "      <td>2010-01-01</td>\n",
              "      <td>0</td>\n",
              "      <td>3.62</td>\n",
              "      <td>3.62</td>\n",
              "      <td>3.62</td>\n",
              "      <td>3.62</td>\n",
              "      <td>3.62</td>\n",
              "      <td>3.62</td>\n",
              "      <td>3.62</td>\n",
              "      <td>3.62</td>\n",
              "      <td>3.62</td>\n",
              "      <td>3.62</td>\n",
              "      <td>3.62</td>\n",
              "      <td>3.62</td>\n",
              "      <td>3.62</td>\n",
              "      <td>3.620</td>\n",
              "      <td>3.62</td>\n",
              "      <td>3.62</td>\n",
              "      <td>3.62</td>\n",
              "      <td>3.62</td>\n",
              "      <td>3.62</td>\n",
              "      <td>3.62</td>\n",
              "      <td>3.62</td>\n",
              "      <td>3.62</td>\n",
              "      <td>3.62</td>\n",
              "      <td>3.62</td>\n",
              "      <td>3.62</td>\n",
              "      <td>3.62</td>\n",
              "      <td>3.62</td>\n",
              "      <td>3.62</td>\n",
              "    </tr>\n",
              "    <tr>\n",
              "      <th>1</th>\n",
              "      <td>2</td>\n",
              "      <td>2010-01-01</td>\n",
              "      <td>0</td>\n",
              "      <td>31.42</td>\n",
              "      <td>31.42</td>\n",
              "      <td>31.42</td>\n",
              "      <td>31.42</td>\n",
              "      <td>31.42</td>\n",
              "      <td>31.42</td>\n",
              "      <td>31.42</td>\n",
              "      <td>31.42</td>\n",
              "      <td>31.42</td>\n",
              "      <td>31.42</td>\n",
              "      <td>31.42</td>\n",
              "      <td>31.42</td>\n",
              "      <td>31.42</td>\n",
              "      <td>31.420</td>\n",
              "      <td>31.42</td>\n",
              "      <td>31.42</td>\n",
              "      <td>31.42</td>\n",
              "      <td>31.42</td>\n",
              "      <td>31.42</td>\n",
              "      <td>31.42</td>\n",
              "      <td>31.42</td>\n",
              "      <td>31.42</td>\n",
              "      <td>31.42</td>\n",
              "      <td>31.42</td>\n",
              "      <td>31.42</td>\n",
              "      <td>31.42</td>\n",
              "      <td>31.42</td>\n",
              "      <td>31.42</td>\n",
              "    </tr>\n",
              "    <tr>\n",
              "      <th>2</th>\n",
              "      <td>3</td>\n",
              "      <td>2010-01-01</td>\n",
              "      <td>0</td>\n",
              "      <td>178.49</td>\n",
              "      <td>178.49</td>\n",
              "      <td>178.49</td>\n",
              "      <td>178.49</td>\n",
              "      <td>178.49</td>\n",
              "      <td>178.49</td>\n",
              "      <td>178.49</td>\n",
              "      <td>178.49</td>\n",
              "      <td>178.49</td>\n",
              "      <td>178.49</td>\n",
              "      <td>178.49</td>\n",
              "      <td>178.49</td>\n",
              "      <td>178.49</td>\n",
              "      <td>178.490</td>\n",
              "      <td>178.49</td>\n",
              "      <td>178.49</td>\n",
              "      <td>178.49</td>\n",
              "      <td>178.49</td>\n",
              "      <td>178.49</td>\n",
              "      <td>178.49</td>\n",
              "      <td>178.49</td>\n",
              "      <td>178.49</td>\n",
              "      <td>178.49</td>\n",
              "      <td>178.49</td>\n",
              "      <td>178.49</td>\n",
              "      <td>178.49</td>\n",
              "      <td>178.49</td>\n",
              "      <td>178.49</td>\n",
              "    </tr>\n",
              "    <tr>\n",
              "      <th>3</th>\n",
              "      <td>4</td>\n",
              "      <td>2010-01-01</td>\n",
              "      <td>0</td>\n",
              "      <td>3.62</td>\n",
              "      <td>3.62</td>\n",
              "      <td>3.62</td>\n",
              "      <td>7.24</td>\n",
              "      <td>3.62</td>\n",
              "      <td>3.62</td>\n",
              "      <td>3.62</td>\n",
              "      <td>3.62</td>\n",
              "      <td>3.62</td>\n",
              "      <td>3.62</td>\n",
              "      <td>3.62</td>\n",
              "      <td>3.62</td>\n",
              "      <td>3.62</td>\n",
              "      <td>3.620</td>\n",
              "      <td>3.62</td>\n",
              "      <td>3.62</td>\n",
              "      <td>3.62</td>\n",
              "      <td>3.62</td>\n",
              "      <td>3.62</td>\n",
              "      <td>3.62</td>\n",
              "      <td>3.62</td>\n",
              "      <td>3.62</td>\n",
              "      <td>3.62</td>\n",
              "      <td>3.62</td>\n",
              "      <td>3.62</td>\n",
              "      <td>3.62</td>\n",
              "      <td>3.62</td>\n",
              "      <td>3.62</td>\n",
              "    </tr>\n",
              "    <tr>\n",
              "      <th>4</th>\n",
              "      <td>5</td>\n",
              "      <td>2010-01-01</td>\n",
              "      <td>0</td>\n",
              "      <td>7.24</td>\n",
              "      <td>3.62</td>\n",
              "      <td>3.62</td>\n",
              "      <td>10.86</td>\n",
              "      <td>3.62</td>\n",
              "      <td>7.24</td>\n",
              "      <td>3.62</td>\n",
              "      <td>3.62</td>\n",
              "      <td>3.62</td>\n",
              "      <td>3.62</td>\n",
              "      <td>3.62</td>\n",
              "      <td>7.24</td>\n",
              "      <td>3.62</td>\n",
              "      <td>3.620</td>\n",
              "      <td>3.62</td>\n",
              "      <td>3.62</td>\n",
              "      <td>3.62</td>\n",
              "      <td>3.62</td>\n",
              "      <td>3.62</td>\n",
              "      <td>3.62</td>\n",
              "      <td>7.24</td>\n",
              "      <td>7.24</td>\n",
              "      <td>7.24</td>\n",
              "      <td>7.24</td>\n",
              "      <td>7.24</td>\n",
              "      <td>7.24</td>\n",
              "      <td>7.24</td>\n",
              "      <td>7.24</td>\n",
              "    </tr>\n",
              "    <tr>\n",
              "      <th>...</th>\n",
              "      <td>...</td>\n",
              "      <td>...</td>\n",
              "      <td>...</td>\n",
              "      <td>...</td>\n",
              "      <td>...</td>\n",
              "      <td>...</td>\n",
              "      <td>...</td>\n",
              "      <td>...</td>\n",
              "      <td>...</td>\n",
              "      <td>...</td>\n",
              "      <td>...</td>\n",
              "      <td>...</td>\n",
              "      <td>...</td>\n",
              "      <td>...</td>\n",
              "      <td>...</td>\n",
              "      <td>...</td>\n",
              "      <td>...</td>\n",
              "      <td>...</td>\n",
              "      <td>...</td>\n",
              "      <td>...</td>\n",
              "      <td>...</td>\n",
              "      <td>...</td>\n",
              "      <td>...</td>\n",
              "      <td>...</td>\n",
              "      <td>...</td>\n",
              "      <td>...</td>\n",
              "      <td>...</td>\n",
              "      <td>...</td>\n",
              "      <td>...</td>\n",
              "      <td>...</td>\n",
              "      <td>...</td>\n",
              "    </tr>\n",
              "    <tr>\n",
              "      <th>96392</th>\n",
              "      <td>96749</td>\n",
              "      <td>2010-12-31</td>\n",
              "      <td>0</td>\n",
              "      <td>84.79</td>\n",
              "      <td>84.79</td>\n",
              "      <td>84.79</td>\n",
              "      <td>84.79</td>\n",
              "      <td>84.79</td>\n",
              "      <td>84.79</td>\n",
              "      <td>84.79</td>\n",
              "      <td>84.79</td>\n",
              "      <td>84.79</td>\n",
              "      <td>84.79</td>\n",
              "      <td>84.79</td>\n",
              "      <td>84.79</td>\n",
              "      <td>84.79</td>\n",
              "      <td>84.790</td>\n",
              "      <td>84.79</td>\n",
              "      <td>84.79</td>\n",
              "      <td>84.79</td>\n",
              "      <td>84.79</td>\n",
              "      <td>84.79</td>\n",
              "      <td>84.79</td>\n",
              "      <td>84.79</td>\n",
              "      <td>84.79</td>\n",
              "      <td>84.79</td>\n",
              "      <td>84.79</td>\n",
              "      <td>84.79</td>\n",
              "      <td>84.79</td>\n",
              "      <td>84.79</td>\n",
              "      <td>84.79</td>\n",
              "    </tr>\n",
              "    <tr>\n",
              "      <th>96393</th>\n",
              "      <td>96750</td>\n",
              "      <td>2010-12-31</td>\n",
              "      <td>0</td>\n",
              "      <td>118.75</td>\n",
              "      <td>118.75</td>\n",
              "      <td>118.75</td>\n",
              "      <td>118.75</td>\n",
              "      <td>118.75</td>\n",
              "      <td>803.75</td>\n",
              "      <td>118.75</td>\n",
              "      <td>118.75</td>\n",
              "      <td>685.00</td>\n",
              "      <td>118.75</td>\n",
              "      <td>1705.60</td>\n",
              "      <td>8089.20</td>\n",
              "      <td>118.75</td>\n",
              "      <td>401.875</td>\n",
              "      <td>359.30</td>\n",
              "      <td>118.75</td>\n",
              "      <td>118.75</td>\n",
              "      <td>359.30</td>\n",
              "      <td>118.75</td>\n",
              "      <td>599.85</td>\n",
              "      <td>803.75</td>\n",
              "      <td>886.25</td>\n",
              "      <td>118.75</td>\n",
              "      <td>718.60</td>\n",
              "      <td>118.75</td>\n",
              "      <td>2871.10</td>\n",
              "      <td>118.75</td>\n",
              "      <td>118.75</td>\n",
              "    </tr>\n",
              "    <tr>\n",
              "      <th>96394</th>\n",
              "      <td>96751</td>\n",
              "      <td>2010-12-31</td>\n",
              "      <td>0</td>\n",
              "      <td>363.56</td>\n",
              "      <td>363.56</td>\n",
              "      <td>363.56</td>\n",
              "      <td>5780.89</td>\n",
              "      <td>363.56</td>\n",
              "      <td>1501.14</td>\n",
              "      <td>363.56</td>\n",
              "      <td>2487.98</td>\n",
              "      <td>363.56</td>\n",
              "      <td>2487.98</td>\n",
              "      <td>1065.73</td>\n",
              "      <td>2578.13</td>\n",
              "      <td>363.56</td>\n",
              "      <td>363.560</td>\n",
              "      <td>363.56</td>\n",
              "      <td>363.56</td>\n",
              "      <td>363.56</td>\n",
              "      <td>363.56</td>\n",
              "      <td>363.56</td>\n",
              "      <td>363.56</td>\n",
              "      <td>363.56</td>\n",
              "      <td>435.41</td>\n",
              "      <td>363.56</td>\n",
              "      <td>363.56</td>\n",
              "      <td>363.56</td>\n",
              "      <td>435.41</td>\n",
              "      <td>363.56</td>\n",
              "      <td>363.56</td>\n",
              "    </tr>\n",
              "    <tr>\n",
              "      <th>96395</th>\n",
              "      <td>96752</td>\n",
              "      <td>2010-12-31</td>\n",
              "      <td>0</td>\n",
              "      <td>2202.03</td>\n",
              "      <td>2202.03</td>\n",
              "      <td>2202.03</td>\n",
              "      <td>5721.23</td>\n",
              "      <td>2202.03</td>\n",
              "      <td>2202.03</td>\n",
              "      <td>2202.03</td>\n",
              "      <td>2312.55</td>\n",
              "      <td>2202.03</td>\n",
              "      <td>2312.55</td>\n",
              "      <td>2202.03</td>\n",
              "      <td>3784.47</td>\n",
              "      <td>2202.03</td>\n",
              "      <td>2202.030</td>\n",
              "      <td>915.21</td>\n",
              "      <td>2202.03</td>\n",
              "      <td>2202.03</td>\n",
              "      <td>2202.03</td>\n",
              "      <td>2202.03</td>\n",
              "      <td>2202.03</td>\n",
              "      <td>2202.03</td>\n",
              "      <td>2202.03</td>\n",
              "      <td>2202.03</td>\n",
              "      <td>2745.63</td>\n",
              "      <td>2202.03</td>\n",
              "      <td>2202.03</td>\n",
              "      <td>2202.03</td>\n",
              "      <td>2202.03</td>\n",
              "    </tr>\n",
              "    <tr>\n",
              "      <th>96396</th>\n",
              "      <td>96753</td>\n",
              "      <td>2010-12-31</td>\n",
              "      <td>0</td>\n",
              "      <td>721.80</td>\n",
              "      <td>554.64</td>\n",
              "      <td>3142.52</td>\n",
              "      <td>554.64</td>\n",
              "      <td>554.64</td>\n",
              "      <td>554.64</td>\n",
              "      <td>554.64</td>\n",
              "      <td>554.64</td>\n",
              "      <td>554.64</td>\n",
              "      <td>554.64</td>\n",
              "      <td>6964.90</td>\n",
              "      <td>17606.16</td>\n",
              "      <td>554.64</td>\n",
              "      <td>554.640</td>\n",
              "      <td>966.08</td>\n",
              "      <td>240.60</td>\n",
              "      <td>554.64</td>\n",
              "      <td>966.08</td>\n",
              "      <td>554.64</td>\n",
              "      <td>3142.52</td>\n",
              "      <td>554.64</td>\n",
              "      <td>3864.32</td>\n",
              "      <td>554.64</td>\n",
              "      <td>3864.32</td>\n",
              "      <td>3864.32</td>\n",
              "      <td>3864.32</td>\n",
              "      <td>554.64</td>\n",
              "      <td>554.64</td>\n",
              "    </tr>\n",
              "  </tbody>\n",
              "</table>\n",
              "<p>96397 rows × 31 columns</p>\n",
              "</div>"
            ],
            "text/plain": [
              "       Recnum        Date  ...  Cardnum_Merchzip_sum_1  Cardnum_Merchzip_sum_0\n",
              "0           1  2010-01-01  ...                    3.62                    3.62\n",
              "1           2  2010-01-01  ...                   31.42                   31.42\n",
              "2           3  2010-01-01  ...                  178.49                  178.49\n",
              "3           4  2010-01-01  ...                    3.62                    3.62\n",
              "4           5  2010-01-01  ...                    7.24                    7.24\n",
              "...       ...         ...  ...                     ...                     ...\n",
              "96392   96749  2010-12-31  ...                   84.79                   84.79\n",
              "96393   96750  2010-12-31  ...                  118.75                  118.75\n",
              "96394   96751  2010-12-31  ...                  363.56                  363.56\n",
              "96395   96752  2010-12-31  ...                 2202.03                 2202.03\n",
              "96396   96753  2010-12-31  ...                  554.64                  554.64\n",
              "\n",
              "[96397 rows x 31 columns]"
            ]
          },
          "metadata": {
            "tags": []
          },
          "execution_count": 5
        }
      ]
    },
    {
      "cell_type": "code",
      "metadata": {
        "id": "jg-qADRPS3f9",
        "colab_type": "code",
        "colab": {}
      },
      "source": [
        "# train-test split\n",
        "X_train = df[(df.Date>'2010-01-14')&(df.Date<'2010-11-01')].iloc[:,3:].reset_index(drop=True)\n",
        "X_test = df[(df.Date>='2010-11-01')].iloc[:,3:].reset_index(drop=True)\n",
        "y_train = df[(df.Date>'2010-01-14')&(df.Date<'2010-11-01')]['Fraud'].reset_index(drop=True)\n",
        "y_test = df[(df.Date>='2010-11-01')]['Fraud'].reset_index(drop=True)"
      ],
      "execution_count": 6,
      "outputs": []
    },
    {
      "cell_type": "code",
      "metadata": {
        "id": "HqJY0SKITJ4z",
        "colab_type": "code",
        "colab": {}
      },
      "source": [
        "# z-scale\n",
        "scaler = StandardScaler()\n",
        "X_train = pd.DataFrame(scaler.fit_transform(X_train), columns=X_train.columns)\n",
        "X_test = pd.DataFrame(scaler.transform(X_test), columns=X_test.columns)"
      ],
      "execution_count": 7,
      "outputs": []
    },
    {
      "cell_type": "markdown",
      "metadata": {
        "colab_type": "text",
        "id": "5gap5Et7FCjO"
      },
      "source": [
        "## Modeling"
      ]
    },
    {
      "cell_type": "markdown",
      "metadata": {
        "id": "MupeZGyzq8ko",
        "colab_type": "text"
      },
      "source": [
        "Here is the summary of the steps for modeling:\n",
        "- Apply logistic regression, random forest, and boosted tree algorithms to build a fraud detection model\n",
        "- For each algorithm, build several models with different parameters\n",
        "- For each model, split the data into training/validation data\n",
        "- Train each model with the training dataset and use it to predict the output of the training and validation dataset\n",
        "- Then, rank the records in descending order of the probability score, and calculate the fraud detection rate at 3% of the population.\n",
        "- Iterate the steps for each model 10 times and average the FDR at 3%. I am using the heuristic way of optimizing parameters instead of the general cross-validation method to minimize statistical fluctuation due to the lack of number of records\n",
        "- Chose the model with the highest average FDR at 3% on the validation dataset as our final fraud detection model"
      ]
    },
    {
      "cell_type": "code",
      "metadata": {
        "id": "23eVVq7Gpioe",
        "colab_type": "code",
        "colab": {}
      },
      "source": [
        "def calculateFDR(predict, fraudscore, y, percent=0.03):\n",
        "  temp = pd.DataFrame({'true':y.tolist(), 'predict':predict, 'score':fraudscore})\n",
        "  temp.sort_values('score', ascending=False, inplace=True)\n",
        "  count = int(temp.shape[0]*percent)\n",
        "  return np.sum(temp.true[0:count])/np.sum(temp.true)"
      ],
      "execution_count": 8,
      "outputs": []
    },
    {
      "cell_type": "code",
      "metadata": {
        "id": "0M3U5J52WIiS",
        "colab_type": "code",
        "colab": {}
      },
      "source": [
        "def modeling(X, y, model, iter):\n",
        "    fdr_df=[]\n",
        "    fdr_total=[0,0]\n",
        "    for i in range(iter):\n",
        "        X_train, X_val, y_train, y_val = train_test_split(X, y) # using default setting for test_size(0.25), random_state(None) and shuffle(True)\n",
        "        model.fit(X_train, y_train)\n",
        "        data = [[X_train, y_train], [X_val, y_val]]\n",
        "        for d in range(len(data)):\n",
        "            predict = model.predict(data[d][0])\n",
        "            prob = model.predict_proba(data[d][0])\n",
        "            fraudscore = prob.transpose()[1]\n",
        "            fdr_each = calculateFDR(predict, fraudscore, data[d][1])\n",
        "            fdr_total[d] += fdr_each\n",
        "    \n",
        "    avg_train = fdr_total[0] / iter\n",
        "    avg_test = fdr_total[1] / iter\n",
        "    result = [avg_train, avg_test]\n",
        "    return result"
      ],
      "execution_count": 9,
      "outputs": []
    },
    {
      "cell_type": "markdown",
      "metadata": {
        "id": "b5X6uuv6frQl",
        "colab_type": "text"
      },
      "source": [
        "### Logistic Regression"
      ]
    },
    {
      "cell_type": "markdown",
      "metadata": {
        "id": "8iPiqk9Jubaz",
        "colab_type": "text"
      },
      "source": [
        "I start with the logistic regression as a baseline model. The important hyperparameter for logistic regression is C, the regularization term."
      ]
    },
    {
      "cell_type": "code",
      "metadata": {
        "id": "q6ZEneozhYaU",
        "colab_type": "code",
        "colab": {
          "base_uri": "https://localhost:8080/",
          "height": 34
        },
        "outputId": "9d3c358a-2bea-4ff5-a953-62fe125d8445"
      },
      "source": [
        "C = [0.01, 0.1, 1, 10]\n",
        "\n",
        "max_train = 0\n",
        "max_val = 0\n",
        "for i in C:\n",
        "  logit = LogisticRegression(C=10, max_iter=2000)\n",
        "  temp = modeling(X_train, y_train, model=logit, iter=10)\n",
        "  if max_val < temp[1] and temp[0] >= temp[1]:\n",
        "      max_train=temp[0]\n",
        "      max_val=temp[1]\n",
        "      maxparams=dict(zip(['C'], [i]))\n",
        "                \n",
        "print(f'The best parameters are {maxparams} with fdr of {max_train} on training and {max_val} on validation data')"
      ],
      "execution_count": 10,
      "outputs": [
        {
          "output_type": "stream",
          "text": [
            "The best parameters are {'C': 1} with fdr of 0.7057074508716761 on training and 0.6874696030459587 on validation data\n"
          ],
          "name": "stdout"
        }
      ]
    },
    {
      "cell_type": "code",
      "metadata": {
        "id": "uQX7FeRdhYFL",
        "colab_type": "code",
        "colab": {}
      },
      "source": [
        "models_table = pd.DataFrame(index=['logit','rf','boosted'], columns=['model','parameters', 'train_fdr', 'val_fdr'])"
      ],
      "execution_count": 11,
      "outputs": []
    },
    {
      "cell_type": "code",
      "metadata": {
        "id": "lBeAxiw1mAn1",
        "colab_type": "code",
        "colab": {}
      },
      "source": [
        "models_table.loc['logit'] = ['logit', maxparams, max_train, max_val]"
      ],
      "execution_count": 12,
      "outputs": []
    },
    {
      "cell_type": "markdown",
      "metadata": {
        "id": "pYBV_1oefvhM",
        "colab_type": "text"
      },
      "source": [
        "### Random Forest"
      ]
    },
    {
      "cell_type": "markdown",
      "metadata": {
        "id": "9t243atWvAtM",
        "colab_type": "text"
      },
      "source": [
        "A random forest is a supervised learning algorithm which is an ensemble of many strong decision trees. It de-correlates\n",
        "the trees by taking bootstrapped samples and using a random sample of features when building each decision tree. The important hyperparameters in the random forest are the number of trees, the maximum\n",
        "number of features in each tree, and the maximum depth of each tree."
      ]
    },
    {
      "cell_type": "code",
      "metadata": {
        "id": "IUqoHD-_YUHf",
        "colab_type": "code",
        "colab": {
          "base_uri": "https://localhost:8080/",
          "height": 34
        },
        "outputId": "287d9aeb-09f8-4e66-b79f-552b5e48fdd0"
      },
      "source": [
        "n_estimators = [50, 100, 150]\n",
        "max_features = ['sqrt', 'log2']\n",
        "max_depth = [25, 50]\n",
        "\n",
        "max_train = 0\n",
        "max_val = 0\n",
        "for i in n_estimators:\n",
        "  for j in max_features:\n",
        "    for k in max_depth:\n",
        "      rf = RandomForestClassifier(n_estimators=i, max_features=j, max_depth=k)\n",
        "      temp = modeling(X_train, y_train, model=rf, iter=10)\n",
        "      if max_val < temp[1] and temp[0] >= temp[1]:\n",
        "          max_train=temp[0]\n",
        "          max_val=temp[1]\n",
        "          maxparams=dict(zip(['n_estimators','max_features','max_depth'], [i,j,k]))\n",
        "                \n",
        "print(f'The best parameters are {maxparams} with fdr of {max_train} on training and {max_val} on validation data')"
      ],
      "execution_count": 13,
      "outputs": [
        {
          "output_type": "stream",
          "text": [
            "The best parameters are {'n_estimators': 100, 'max_features': 'sqrt', 'max_depth': 25} with fdr of 1.0 on training and 0.9026605799864207 on validation data\n"
          ],
          "name": "stdout"
        }
      ]
    },
    {
      "cell_type": "code",
      "metadata": {
        "id": "2ztEiRq-fWHB",
        "colab_type": "code",
        "colab": {}
      },
      "source": [
        "models_table.loc['rf'] = ['rf', maxparams, max_train, max_val]"
      ],
      "execution_count": 14,
      "outputs": []
    },
    {
      "cell_type": "markdown",
      "metadata": {
        "id": "kF77nqsMhjGM",
        "colab_type": "text"
      },
      "source": [
        "### Boosted Trees"
      ]
    },
    {
      "cell_type": "markdown",
      "metadata": {
        "id": "59eYV5QIvRI4",
        "colab_type": "text"
      },
      "source": [
        "boosted trees is a supervised learning algorithm composed of a series of weak learners to result in a strong learner. Each weak learners are typically shallow decision trees and we predict the dependent variable based on the sum of the scores from all the weak learners. The important hyperparameters in the boosted tree are the depth of the trees, the number of trees and the learning rate."
      ]
    },
    {
      "cell_type": "code",
      "metadata": {
        "id": "9jpB-gGBhn6D",
        "colab_type": "code",
        "colab": {
          "base_uri": "https://localhost:8080/",
          "height": 34
        },
        "outputId": "46e461bf-4cf3-4e34-bb53-690704cd3b39"
      },
      "source": [
        "learning_rate = [0.1, 0.01]\n",
        "n_estimators = [100, 200, 300]\n",
        "max_depth = [1,3,5]\n",
        "\n",
        "max_train = 0\n",
        "max_val = 0\n",
        "for i in learning_rate:\n",
        "  for j in n_estimators:\n",
        "    for k in max_depth:\n",
        "      boosted = GradientBoostingClassifier(learning_rate=i, n_estimators=j, max_depth=k)\n",
        "      temp = modeling(X_train, y_train, model=boosted, iter=10)\n",
        "      if max_val < temp[1] and temp[0] >= temp[1]:\n",
        "          max_train=temp[0]\n",
        "          max_val=temp[1]\n",
        "          maxparams=dict(zip(['learning_rate','n_estimators','max_depth'], [i,j,k]))\n",
        "                \n",
        "print(f'The best parameters are {maxparams} with fdr of {max_train} on training and {max_val} on validation data')"
      ],
      "execution_count": 15,
      "outputs": [
        {
          "output_type": "stream",
          "text": [
            "The best parameters are {'learning_rate': 0.1, 'n_estimators': 300, 'max_depth': 5} with fdr of 1.0 on training and 0.8963231730943931 on validation data\n"
          ],
          "name": "stdout"
        }
      ]
    },
    {
      "cell_type": "code",
      "metadata": {
        "id": "VQMb9RsGhnv8",
        "colab_type": "code",
        "colab": {}
      },
      "source": [
        "models_table.loc['boosted'] = ['boosted', maxparams, max_train, max_val]"
      ],
      "execution_count": 16,
      "outputs": []
    },
    {
      "cell_type": "code",
      "metadata": {
        "id": "yv62aExUhcyw",
        "colab_type": "code",
        "colab": {
          "base_uri": "https://localhost:8080/",
          "height": 142
        },
        "outputId": "8d3508ac-b67f-4cb9-d554-ca7f78b87d8d"
      },
      "source": [
        "models_table"
      ],
      "execution_count": 17,
      "outputs": [
        {
          "output_type": "execute_result",
          "data": {
            "text/html": [
              "<div>\n",
              "<style scoped>\n",
              "    .dataframe tbody tr th:only-of-type {\n",
              "        vertical-align: middle;\n",
              "    }\n",
              "\n",
              "    .dataframe tbody tr th {\n",
              "        vertical-align: top;\n",
              "    }\n",
              "\n",
              "    .dataframe thead th {\n",
              "        text-align: right;\n",
              "    }\n",
              "</style>\n",
              "<table border=\"1\" class=\"dataframe\">\n",
              "  <thead>\n",
              "    <tr style=\"text-align: right;\">\n",
              "      <th></th>\n",
              "      <th>model</th>\n",
              "      <th>parameters</th>\n",
              "      <th>train_fdr</th>\n",
              "      <th>val_fdr</th>\n",
              "    </tr>\n",
              "  </thead>\n",
              "  <tbody>\n",
              "    <tr>\n",
              "      <th>logit</th>\n",
              "      <td>logit</td>\n",
              "      <td>{'C': 1}</td>\n",
              "      <td>0.705707</td>\n",
              "      <td>0.68747</td>\n",
              "    </tr>\n",
              "    <tr>\n",
              "      <th>rf</th>\n",
              "      <td>rf</td>\n",
              "      <td>{'n_estimators': 100, 'max_features': 'sqrt', ...</td>\n",
              "      <td>1</td>\n",
              "      <td>0.902661</td>\n",
              "    </tr>\n",
              "    <tr>\n",
              "      <th>boosted</th>\n",
              "      <td>boosted</td>\n",
              "      <td>{'learning_rate': 0.1, 'n_estimators': 300, 'm...</td>\n",
              "      <td>1</td>\n",
              "      <td>0.896323</td>\n",
              "    </tr>\n",
              "  </tbody>\n",
              "</table>\n",
              "</div>"
            ],
            "text/plain": [
              "           model  ...   val_fdr\n",
              "logit      logit  ...   0.68747\n",
              "rf            rf  ...  0.902661\n",
              "boosted  boosted  ...  0.896323\n",
              "\n",
              "[3 rows x 4 columns]"
            ]
          },
          "metadata": {
            "tags": []
          },
          "execution_count": 17
        }
      ]
    },
    {
      "cell_type": "markdown",
      "metadata": {
        "id": "XppJJiFyhcr0",
        "colab_type": "text"
      },
      "source": [
        "### Final model"
      ]
    },
    {
      "cell_type": "markdown",
      "metadata": {
        "id": "Zm9ngIQRwZiw",
        "colab_type": "text"
      },
      "source": [
        "Now, I re-train the model with the entire training data and check the performance on the test data."
      ]
    },
    {
      "cell_type": "code",
      "metadata": {
        "id": "WIcWT-4FpvVO",
        "colab_type": "code",
        "colab": {
          "base_uri": "https://localhost:8080/",
          "height": 34
        },
        "outputId": "1e403d68-98b7-452e-f820-52f215f02683"
      },
      "source": [
        "params_final = models_table.loc['rf', 'parameters']\n",
        "params_final"
      ],
      "execution_count": 24,
      "outputs": [
        {
          "output_type": "execute_result",
          "data": {
            "text/plain": [
              "{'max_depth': 25, 'max_features': 'sqrt', 'n_estimators': 100}"
            ]
          },
          "metadata": {
            "tags": []
          },
          "execution_count": 24
        }
      ]
    },
    {
      "cell_type": "code",
      "metadata": {
        "id": "I1jhQrh0JNDi",
        "colab_type": "code",
        "colab": {
          "base_uri": "https://localhost:8080/",
          "height": 34
        },
        "outputId": "12c17c8a-2c0f-4eb6-b290-3bd3494650c3"
      },
      "source": [
        "model = RandomForestClassifier(n_estimators=params_final['n_estimators'], max_features=params_final['max_features'], max_depth=params_final['max_depth'])\n",
        "model.fit(X_train, y_train)\n",
        "data = [[X_train, y_train], [X_test, y_test]]\n",
        "fdr_final=[0,0]\n",
        "\n",
        "for d in range(len(data)):\n",
        "  predict = model.predict(data[d][0])\n",
        "  prob = model.predict_proba(data[d][0])\n",
        "  fraudscore = prob.transpose()[1]\n",
        "  fdr_each = calculateFDR(predict, fraudscore, data[d][1])\n",
        "  fdr_final[d] = fdr_each\n",
        "\n",
        "print(f'The final model with random forest has FDR of {fdr_final[0]} on training and {fdr_final[1]} on validation data')"
      ],
      "execution_count": 28,
      "outputs": [
        {
          "output_type": "stream",
          "text": [
            "The final model with random forest has FDR of 1.0 on training and 0.553072625698324 on validation data\n"
          ],
          "name": "stdout"
        }
      ]
    },
    {
      "cell_type": "code",
      "metadata": {
        "id": "Eo-IM0vcdrIA",
        "colab_type": "code",
        "colab": {}
      },
      "source": [
        "pickle.dump(model, open('/content/drive/My Drive/Colab Notebooks/fraud3_final_model','wb'))"
      ],
      "execution_count": 34,
      "outputs": []
    },
    {
      "cell_type": "markdown",
      "metadata": {
        "id": "2kKx7E7ypyoH",
        "colab_type": "text"
      },
      "source": [
        "## Conclusion"
      ]
    },
    {
      "cell_type": "markdown",
      "metadata": {
        "id": "90YADO1CpYyV",
        "colab_type": "text"
      },
      "source": [
        "In the conclusion, I introduce and analyze a hypothetical setting on the test data to suggest the client a score cutoff of 8% that maximizes the overall fraud savings from labeling all transactions below that threshold as fraudulent.\n",
        "\n",
        "Assumptions:\n",
        "- Saving per correct fraud caught: \\$2000\n",
        "- Opportunity/transaction loss from a record identified as a false positive: \\$50"
      ]
    },
    {
      "cell_type": "code",
      "metadata": {
        "id": "alb3zzrQh06K",
        "colab_type": "code",
        "colab": {}
      },
      "source": [
        "savings = pd.DataFrame(y_test)\n",
        "savings['score'] = fraudscore\n",
        "savings['predict'] = predict\n",
        "savings.sort_values('score', ascending=False, inplace=True)"
      ],
      "execution_count": 133,
      "outputs": []
    },
    {
      "cell_type": "code",
      "metadata": {
        "id": "62T9RZmTjUw-",
        "colab_type": "code",
        "colab": {}
      },
      "source": [
        "savings['savings'] = 2000*savings.Fraud.cumsum()\n",
        "savings['lost_sales'] = (np.ones(len(savings))*50).cumsum()\n",
        "savings['net_savings'] = savings['savings'] - savings['lost_sales']\n",
        "savings['bins'] = (np.ones(len(savings))/len(savings)*100).cumsum()"
      ],
      "execution_count": 134,
      "outputs": []
    },
    {
      "cell_type": "code",
      "metadata": {
        "id": "cHIZObA0mLoo",
        "colab_type": "code",
        "colab": {
          "base_uri": "https://localhost:8080/",
          "height": 419
        },
        "outputId": "4dba42e1-068d-47a7-9ac6-8d13466b3c10"
      },
      "source": [
        "savings"
      ],
      "execution_count": 135,
      "outputs": [
        {
          "output_type": "execute_result",
          "data": {
            "text/html": [
              "<div>\n",
              "<style scoped>\n",
              "    .dataframe tbody tr th:only-of-type {\n",
              "        vertical-align: middle;\n",
              "    }\n",
              "\n",
              "    .dataframe tbody tr th {\n",
              "        vertical-align: top;\n",
              "    }\n",
              "\n",
              "    .dataframe thead th {\n",
              "        text-align: right;\n",
              "    }\n",
              "</style>\n",
              "<table border=\"1\" class=\"dataframe\">\n",
              "  <thead>\n",
              "    <tr style=\"text-align: right;\">\n",
              "      <th></th>\n",
              "      <th>Fraud</th>\n",
              "      <th>score</th>\n",
              "      <th>predict</th>\n",
              "      <th>savings</th>\n",
              "      <th>lost_sales</th>\n",
              "      <th>net_savings</th>\n",
              "      <th>bins</th>\n",
              "    </tr>\n",
              "  </thead>\n",
              "  <tbody>\n",
              "    <tr>\n",
              "      <th>5151</th>\n",
              "      <td>1</td>\n",
              "      <td>0.96</td>\n",
              "      <td>1</td>\n",
              "      <td>2000</td>\n",
              "      <td>50.0</td>\n",
              "      <td>1950.0</td>\n",
              "      <td>0.008047</td>\n",
              "    </tr>\n",
              "    <tr>\n",
              "      <th>5121</th>\n",
              "      <td>1</td>\n",
              "      <td>0.96</td>\n",
              "      <td>1</td>\n",
              "      <td>4000</td>\n",
              "      <td>100.0</td>\n",
              "      <td>3900.0</td>\n",
              "      <td>0.016094</td>\n",
              "    </tr>\n",
              "    <tr>\n",
              "      <th>5142</th>\n",
              "      <td>1</td>\n",
              "      <td>0.96</td>\n",
              "      <td>1</td>\n",
              "      <td>6000</td>\n",
              "      <td>150.0</td>\n",
              "      <td>5850.0</td>\n",
              "      <td>0.024141</td>\n",
              "    </tr>\n",
              "    <tr>\n",
              "      <th>5144</th>\n",
              "      <td>1</td>\n",
              "      <td>0.96</td>\n",
              "      <td>1</td>\n",
              "      <td>8000</td>\n",
              "      <td>200.0</td>\n",
              "      <td>7800.0</td>\n",
              "      <td>0.032188</td>\n",
              "    </tr>\n",
              "    <tr>\n",
              "      <th>5104</th>\n",
              "      <td>1</td>\n",
              "      <td>0.96</td>\n",
              "      <td>1</td>\n",
              "      <td>10000</td>\n",
              "      <td>250.0</td>\n",
              "      <td>9750.0</td>\n",
              "      <td>0.040235</td>\n",
              "    </tr>\n",
              "    <tr>\n",
              "      <th>...</th>\n",
              "      <td>...</td>\n",
              "      <td>...</td>\n",
              "      <td>...</td>\n",
              "      <td>...</td>\n",
              "      <td>...</td>\n",
              "      <td>...</td>\n",
              "      <td>...</td>\n",
              "    </tr>\n",
              "    <tr>\n",
              "      <th>2488</th>\n",
              "      <td>0</td>\n",
              "      <td>0.00</td>\n",
              "      <td>0</td>\n",
              "      <td>358000</td>\n",
              "      <td>621150.0</td>\n",
              "      <td>-263150.0</td>\n",
              "      <td>99.967812</td>\n",
              "    </tr>\n",
              "    <tr>\n",
              "      <th>2493</th>\n",
              "      <td>0</td>\n",
              "      <td>0.00</td>\n",
              "      <td>0</td>\n",
              "      <td>358000</td>\n",
              "      <td>621200.0</td>\n",
              "      <td>-263200.0</td>\n",
              "      <td>99.975859</td>\n",
              "    </tr>\n",
              "    <tr>\n",
              "      <th>11023</th>\n",
              "      <td>0</td>\n",
              "      <td>0.00</td>\n",
              "      <td>0</td>\n",
              "      <td>358000</td>\n",
              "      <td>621250.0</td>\n",
              "      <td>-263250.0</td>\n",
              "      <td>99.983906</td>\n",
              "    </tr>\n",
              "    <tr>\n",
              "      <th>5546</th>\n",
              "      <td>0</td>\n",
              "      <td>0.00</td>\n",
              "      <td>0</td>\n",
              "      <td>358000</td>\n",
              "      <td>621300.0</td>\n",
              "      <td>-263300.0</td>\n",
              "      <td>99.991953</td>\n",
              "    </tr>\n",
              "    <tr>\n",
              "      <th>10202</th>\n",
              "      <td>0</td>\n",
              "      <td>0.00</td>\n",
              "      <td>0</td>\n",
              "      <td>358000</td>\n",
              "      <td>621350.0</td>\n",
              "      <td>-263350.0</td>\n",
              "      <td>100.000000</td>\n",
              "    </tr>\n",
              "  </tbody>\n",
              "</table>\n",
              "<p>12427 rows × 7 columns</p>\n",
              "</div>"
            ],
            "text/plain": [
              "       Fraud  score  predict  savings  lost_sales  net_savings        bins\n",
              "5151       1   0.96        1     2000        50.0       1950.0    0.008047\n",
              "5121       1   0.96        1     4000       100.0       3900.0    0.016094\n",
              "5142       1   0.96        1     6000       150.0       5850.0    0.024141\n",
              "5144       1   0.96        1     8000       200.0       7800.0    0.032188\n",
              "5104       1   0.96        1    10000       250.0       9750.0    0.040235\n",
              "...      ...    ...      ...      ...         ...          ...         ...\n",
              "2488       0   0.00        0   358000    621150.0    -263150.0   99.967812\n",
              "2493       0   0.00        0   358000    621200.0    -263200.0   99.975859\n",
              "11023      0   0.00        0   358000    621250.0    -263250.0   99.983906\n",
              "5546       0   0.00        0   358000    621300.0    -263300.0   99.991953\n",
              "10202      0   0.00        0   358000    621350.0    -263350.0  100.000000\n",
              "\n",
              "[12427 rows x 7 columns]"
            ]
          },
          "metadata": {
            "tags": []
          },
          "execution_count": 135
        }
      ]
    },
    {
      "cell_type": "code",
      "metadata": {
        "id": "_I2NRXT4l5w3",
        "colab_type": "code",
        "colab": {
          "base_uri": "https://localhost:8080/",
          "height": 410
        },
        "outputId": "ce15d4d5-2505-47d7-d5dc-b8875e460b8f"
      },
      "source": [
        "sns.set()\n",
        "plt.figure(figsize=(10, 6))\n",
        "plt.plot('bins', 'savings', data=savings, color='blue', label='Fraud Savings')\n",
        "plt.plot('bins', 'lost_sales', data=savings, color='orange', linestyle=':', label='Lost Sales')\n",
        "plt.plot('bins', 'net_savings', data=savings, color='green', linestyle='--', label='Net Savings')\n",
        "plt.xlim(-2, 52)\n",
        "plt.xticks(np.arange(0,51,5))\n",
        "plt.ylim(0, 350000)\n",
        "plt.axvline(x=savings.loc[savings.net_savings.idxmax(), 'bins'], linestyle='--', linewidth=2, color='red') \n",
        "plt.xlabel('Test Population % Bins')\n",
        "plt.ylabel('$ Amount')\n",
        "plt.title('Fraud Savings Implications')\n",
        "plt.legend()\n",
        "plt.show()"
      ],
      "execution_count": 169,
      "outputs": [
        {
          "output_type": "display_data",
          "data": {
            "image/png": "[encoded data removed]",
            "text/plain": [
              "<Figure size 720x432 with 1 Axes>"
            ]
          },
          "metadata": {
            "tags": []
          }
        }
      ]
    },
    {
      "cell_type": "code",
      "metadata": {
        "id": "GyzLgRFawSoQ",
        "colab_type": "code",
        "colab": {
          "base_uri": "https://localhost:8080/",
          "height": 34
        },
        "outputId": "957202e6-27d7-4e9e-ef98-108bc30fd25d"
      },
      "source": [
        "print('The best cut-off point is at {}% with the net savings of {} dollars'.format(round(savings.loc[savings.net_savings.idxmax(), 'bins']), savings.loc[savings.net_savings.idxmax(), 'net_savings']))"
      ],
      "execution_count": 155,
      "outputs": [
        {
          "output_type": "stream",
          "text": [
            "The best cut-off point is at 8.0% with the net savings of 211650.0 dollars\n"
          ],
          "name": "stdout"
        }
      ]
    },
    {
      "cell_type": "code",
      "metadata": {
        "colab_type": "code",
        "id": "uVtqayquFCgN",
        "colab": {
          "base_uri": "https://localhost:8080/",
          "height": 68
        },
        "outputId": "b48dc4ef-8c91-4371-b1ef-1fae3030a8b2"
      },
      "source": [
        "end_time = pd.datetime.now()\n",
        "print(end_time - start_time)"
      ],
      "execution_count": 18,
      "outputs": [
        {
          "output_type": "stream",
          "text": [
            "6:34:49.258466\n"
          ],
          "name": "stdout"
        },
        {
          "output_type": "stream",
          "text": [
            "/usr/local/lib/python3.6/dist-packages/ipykernel_launcher.py:1: FutureWarning: The pandas.datetime class is deprecated and will be removed from pandas in a future version. Import from datetime instead.\n",
            "  \"\"\"Entry point for launching an IPython kernel.\n"
          ],
          "name": "stderr"
        }
      ]
    }
  ]
}